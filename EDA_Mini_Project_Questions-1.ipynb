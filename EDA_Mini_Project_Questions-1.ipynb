{
 "cells": [
  {
   "cell_type": "markdown",
   "metadata": {},
   "source": [
    "<h1 class=\"list-group-item list-group-item-action active\" data-toggle=\"list\"  role=\"tab\" aria-controls=\"home\">Exploratory Data Analysis Mini Project </h1>\n",
    "     \n"
   ]
  },
  {
   "cell_type": "markdown",
   "metadata": {},
   "source": [
    "<h4 class=\"list-group-item list-group-item-action active\" >1. DESCRIPTIVE STATISTICS</h4>\n",
    "\n",
    ">#### 1. Create a dataframe using below data and answer the below questions:\n",
    "\n",
    "        Hourly_Income = [1000,2009,24418,444478,324235,243242,3434234,7567457,9235,238237,1312,3412]\n",
    "        Hourly_Expense =  [651361,217371,2746,2356,13436,5732,346346,3463,1132,23534,242235,235235]\n",
    "        family_members_count = [3,4,2,3,1,4,5,6,3,6,3,5]\n",
    "        House_rent = [1299,2300,3411,3422,4566,4211,4600,736,672,0,734,2374]\n",
    "        Highest_income_Member = [\"Olivia\",\"George\",\"Isla\",\"Harry\",\"Ava\",\"Noah\",\"Sophia\",\"Jacobi\",\"Freddie\",\"Ella\",\"Grace\",\"Ella\"]\n",
    "        \n",
    "        \n",
    ">##### A. Display the five point summary of the data. \n",
    ">##### B. What is the mean of the hourly expense?\n",
    ">##### C. What is the median of the hourly expense?\n",
    ">##### D. Find the family member with maximum income and using a suitable graph.\n",
    ">##### E. Calculate IQR(the difference between 75% and 25% quartile) for `Hourly_Income` and `Hourly_Expense`.\n",
    ">##### F. Calculate the standard deviation for first 2 columns.\n",
    ">##### G. Calculate variance for the first 4 columns"
   ]
  },
  {
   "cell_type": "code",
   "execution_count": 1,
   "metadata": {},
   "outputs": [],
   "source": [
    "import numpy as np\n",
    "import pandas as pd\n",
    "import seaborn as sns\n",
    "import matplotlib.pyplot as plt\n",
    "import warnings\n",
    "warnings.filterwarnings('ignore')"
   ]
  },
  {
   "cell_type": "code",
   "execution_count": 2,
   "metadata": {},
   "outputs": [],
   "source": [
    "dict1= {'Hourly_Income' : [1000,2009,24418,444478,324235,243242,3434234,7567457,9235,238237,1312,3412],\n",
    "         'Hourly_Expense' :  [651361,217371,2746,2356,13436,5732,346346,3463,1132,23534,242235,235235],\n",
    "         'family_members_count' : [3,4,2,3,1,4,5,6,3,6,3,5],\n",
    "        'House_rent' : [1299,2300,3411,3422,4566,4211,4600,736,672,0,734,2374],\n",
    "         'Highest_income_Member' : [\"Olivia\",\"George\",\"Isla\",\"Harry\",\"Ava\",\"Noah\",\"Sophia\",\"Jacobi\",\"Freddie\",\"Ella\",\"Grace\",\"Ella\"]}"
   ]
  },
  {
   "cell_type": "code",
   "execution_count": 3,
   "metadata": {},
   "outputs": [
    {
     "data": {
      "text/html": [
       "<div>\n",
       "<style scoped>\n",
       "    .dataframe tbody tr th:only-of-type {\n",
       "        vertical-align: middle;\n",
       "    }\n",
       "\n",
       "    .dataframe tbody tr th {\n",
       "        vertical-align: top;\n",
       "    }\n",
       "\n",
       "    .dataframe thead th {\n",
       "        text-align: right;\n",
       "    }\n",
       "</style>\n",
       "<table border=\"1\" class=\"dataframe\">\n",
       "  <thead>\n",
       "    <tr style=\"text-align: right;\">\n",
       "      <th></th>\n",
       "      <th>Hourly_Income</th>\n",
       "      <th>Hourly_Expense</th>\n",
       "      <th>family_members_count</th>\n",
       "      <th>House_rent</th>\n",
       "      <th>Highest_income_Member</th>\n",
       "    </tr>\n",
       "  </thead>\n",
       "  <tbody>\n",
       "    <tr>\n",
       "      <th>0</th>\n",
       "      <td>1000</td>\n",
       "      <td>651361</td>\n",
       "      <td>3</td>\n",
       "      <td>1299</td>\n",
       "      <td>Olivia</td>\n",
       "    </tr>\n",
       "    <tr>\n",
       "      <th>1</th>\n",
       "      <td>2009</td>\n",
       "      <td>217371</td>\n",
       "      <td>4</td>\n",
       "      <td>2300</td>\n",
       "      <td>George</td>\n",
       "    </tr>\n",
       "    <tr>\n",
       "      <th>2</th>\n",
       "      <td>24418</td>\n",
       "      <td>2746</td>\n",
       "      <td>2</td>\n",
       "      <td>3411</td>\n",
       "      <td>Isla</td>\n",
       "    </tr>\n",
       "    <tr>\n",
       "      <th>3</th>\n",
       "      <td>444478</td>\n",
       "      <td>2356</td>\n",
       "      <td>3</td>\n",
       "      <td>3422</td>\n",
       "      <td>Harry</td>\n",
       "    </tr>\n",
       "    <tr>\n",
       "      <th>4</th>\n",
       "      <td>324235</td>\n",
       "      <td>13436</td>\n",
       "      <td>1</td>\n",
       "      <td>4566</td>\n",
       "      <td>Ava</td>\n",
       "    </tr>\n",
       "    <tr>\n",
       "      <th>5</th>\n",
       "      <td>243242</td>\n",
       "      <td>5732</td>\n",
       "      <td>4</td>\n",
       "      <td>4211</td>\n",
       "      <td>Noah</td>\n",
       "    </tr>\n",
       "    <tr>\n",
       "      <th>6</th>\n",
       "      <td>3434234</td>\n",
       "      <td>346346</td>\n",
       "      <td>5</td>\n",
       "      <td>4600</td>\n",
       "      <td>Sophia</td>\n",
       "    </tr>\n",
       "    <tr>\n",
       "      <th>7</th>\n",
       "      <td>7567457</td>\n",
       "      <td>3463</td>\n",
       "      <td>6</td>\n",
       "      <td>736</td>\n",
       "      <td>Jacobi</td>\n",
       "    </tr>\n",
       "    <tr>\n",
       "      <th>8</th>\n",
       "      <td>9235</td>\n",
       "      <td>1132</td>\n",
       "      <td>3</td>\n",
       "      <td>672</td>\n",
       "      <td>Freddie</td>\n",
       "    </tr>\n",
       "    <tr>\n",
       "      <th>9</th>\n",
       "      <td>238237</td>\n",
       "      <td>23534</td>\n",
       "      <td>6</td>\n",
       "      <td>0</td>\n",
       "      <td>Ella</td>\n",
       "    </tr>\n",
       "    <tr>\n",
       "      <th>10</th>\n",
       "      <td>1312</td>\n",
       "      <td>242235</td>\n",
       "      <td>3</td>\n",
       "      <td>734</td>\n",
       "      <td>Grace</td>\n",
       "    </tr>\n",
       "    <tr>\n",
       "      <th>11</th>\n",
       "      <td>3412</td>\n",
       "      <td>235235</td>\n",
       "      <td>5</td>\n",
       "      <td>2374</td>\n",
       "      <td>Ella</td>\n",
       "    </tr>\n",
       "  </tbody>\n",
       "</table>\n",
       "</div>"
      ],
      "text/plain": [
       "    Hourly_Income  Hourly_Expense  family_members_count  House_rent  \\\n",
       "0            1000          651361                     3        1299   \n",
       "1            2009          217371                     4        2300   \n",
       "2           24418            2746                     2        3411   \n",
       "3          444478            2356                     3        3422   \n",
       "4          324235           13436                     1        4566   \n",
       "5          243242            5732                     4        4211   \n",
       "6         3434234          346346                     5        4600   \n",
       "7         7567457            3463                     6         736   \n",
       "8            9235            1132                     3         672   \n",
       "9          238237           23534                     6           0   \n",
       "10           1312          242235                     3         734   \n",
       "11           3412          235235                     5        2374   \n",
       "\n",
       "   Highest_income_Member  \n",
       "0                 Olivia  \n",
       "1                 George  \n",
       "2                   Isla  \n",
       "3                  Harry  \n",
       "4                    Ava  \n",
       "5                   Noah  \n",
       "6                 Sophia  \n",
       "7                 Jacobi  \n",
       "8                Freddie  \n",
       "9                   Ella  \n",
       "10                 Grace  \n",
       "11                  Ella  "
      ]
     },
     "execution_count": 3,
     "metadata": {},
     "output_type": "execute_result"
    }
   ],
   "source": [
    "df=pd.DataFrame(data=dict1)\n",
    "\n",
    "df"
   ]
  },
  {
   "cell_type": "code",
   "execution_count": 4,
   "metadata": {},
   "outputs": [
    {
     "data": {
      "text/html": [
       "<div>\n",
       "<style scoped>\n",
       "    .dataframe tbody tr th:only-of-type {\n",
       "        vertical-align: middle;\n",
       "    }\n",
       "\n",
       "    .dataframe tbody tr th {\n",
       "        vertical-align: top;\n",
       "    }\n",
       "\n",
       "    .dataframe thead th {\n",
       "        text-align: right;\n",
       "    }\n",
       "</style>\n",
       "<table border=\"1\" class=\"dataframe\">\n",
       "  <thead>\n",
       "    <tr style=\"text-align: right;\">\n",
       "      <th></th>\n",
       "      <th>Hourly_Income</th>\n",
       "      <th>Hourly_Expense</th>\n",
       "      <th>family_members_count</th>\n",
       "      <th>House_rent</th>\n",
       "      <th>Highest_income_Member</th>\n",
       "    </tr>\n",
       "  </thead>\n",
       "  <tbody>\n",
       "    <tr>\n",
       "      <th>0</th>\n",
       "      <td>1000</td>\n",
       "      <td>651361</td>\n",
       "      <td>3</td>\n",
       "      <td>1299</td>\n",
       "      <td>Olivia</td>\n",
       "    </tr>\n",
       "    <tr>\n",
       "      <th>1</th>\n",
       "      <td>2009</td>\n",
       "      <td>217371</td>\n",
       "      <td>4</td>\n",
       "      <td>2300</td>\n",
       "      <td>George</td>\n",
       "    </tr>\n",
       "    <tr>\n",
       "      <th>2</th>\n",
       "      <td>24418</td>\n",
       "      <td>2746</td>\n",
       "      <td>2</td>\n",
       "      <td>3411</td>\n",
       "      <td>Isla</td>\n",
       "    </tr>\n",
       "    <tr>\n",
       "      <th>3</th>\n",
       "      <td>444478</td>\n",
       "      <td>2356</td>\n",
       "      <td>3</td>\n",
       "      <td>3422</td>\n",
       "      <td>Harry</td>\n",
       "    </tr>\n",
       "    <tr>\n",
       "      <th>4</th>\n",
       "      <td>324235</td>\n",
       "      <td>13436</td>\n",
       "      <td>1</td>\n",
       "      <td>4566</td>\n",
       "      <td>Ava</td>\n",
       "    </tr>\n",
       "  </tbody>\n",
       "</table>\n",
       "</div>"
      ],
      "text/plain": [
       "   Hourly_Income  Hourly_Expense  family_members_count  House_rent  \\\n",
       "0           1000          651361                     3        1299   \n",
       "1           2009          217371                     4        2300   \n",
       "2          24418            2746                     2        3411   \n",
       "3         444478            2356                     3        3422   \n",
       "4         324235           13436                     1        4566   \n",
       "\n",
       "  Highest_income_Member  \n",
       "0                Olivia  \n",
       "1                George  \n",
       "2                  Isla  \n",
       "3                 Harry  \n",
       "4                   Ava  "
      ]
     },
     "execution_count": 4,
     "metadata": {},
     "output_type": "execute_result"
    }
   ],
   "source": [
    "df.head()"
   ]
  },
  {
   "cell_type": "code",
   "execution_count": 5,
   "metadata": {},
   "outputs": [
    {
     "data": {
      "text/plain": [
       "Hourly_Income             int64\n",
       "Hourly_Expense            int64\n",
       "family_members_count      int64\n",
       "House_rent                int64\n",
       "Highest_income_Member    object\n",
       "dtype: object"
      ]
     },
     "execution_count": 5,
     "metadata": {},
     "output_type": "execute_result"
    }
   ],
   "source": [
    "df.dtypes"
   ]
  },
  {
   "cell_type": "code",
   "execution_count": 6,
   "metadata": {},
   "outputs": [
    {
     "data": {
      "text/plain": [
       "Index(['Hourly_Income', 'Hourly_Expense', 'family_members_count', 'House_rent',\n",
       "       'Highest_income_Member'],\n",
       "      dtype='object')"
      ]
     },
     "execution_count": 6,
     "metadata": {},
     "output_type": "execute_result"
    }
   ],
   "source": [
    "df.columns"
   ]
  },
  {
   "cell_type": "code",
   "execution_count": 7,
   "metadata": {},
   "outputs": [
    {
     "name": "stdout",
     "output_type": "stream",
     "text": [
      "<class 'pandas.core.frame.DataFrame'>\n",
      "RangeIndex: 12 entries, 0 to 11\n",
      "Data columns (total 5 columns):\n",
      " #   Column                 Non-Null Count  Dtype \n",
      "---  ------                 --------------  ----- \n",
      " 0   Hourly_Income          12 non-null     int64 \n",
      " 1   Hourly_Expense         12 non-null     int64 \n",
      " 2   family_members_count   12 non-null     int64 \n",
      " 3   House_rent             12 non-null     int64 \n",
      " 4   Highest_income_Member  12 non-null     object\n",
      "dtypes: int64(4), object(1)\n",
      "memory usage: 608.0+ bytes\n"
     ]
    }
   ],
   "source": [
    "df.info()"
   ]
  },
  {
   "cell_type": "code",
   "execution_count": 8,
   "metadata": {},
   "outputs": [
    {
     "data": {
      "text/html": [
       "<div>\n",
       "<style scoped>\n",
       "    .dataframe tbody tr th:only-of-type {\n",
       "        vertical-align: middle;\n",
       "    }\n",
       "\n",
       "    .dataframe tbody tr th {\n",
       "        vertical-align: top;\n",
       "    }\n",
       "\n",
       "    .dataframe thead th {\n",
       "        text-align: right;\n",
       "    }\n",
       "</style>\n",
       "<table border=\"1\" class=\"dataframe\">\n",
       "  <thead>\n",
       "    <tr style=\"text-align: right;\">\n",
       "      <th></th>\n",
       "      <th>Hourly_Income</th>\n",
       "      <th>Hourly_Expense</th>\n",
       "      <th>family_members_count</th>\n",
       "      <th>House_rent</th>\n",
       "    </tr>\n",
       "  </thead>\n",
       "  <tbody>\n",
       "    <tr>\n",
       "      <th>count</th>\n",
       "      <td>1.200000e+01</td>\n",
       "      <td>12.000000</td>\n",
       "      <td>12.000000</td>\n",
       "      <td>12.000000</td>\n",
       "    </tr>\n",
       "    <tr>\n",
       "      <th>mean</th>\n",
       "      <td>1.024439e+06</td>\n",
       "      <td>145412.250000</td>\n",
       "      <td>3.750000</td>\n",
       "      <td>2360.416667</td>\n",
       "    </tr>\n",
       "    <tr>\n",
       "      <th>std</th>\n",
       "      <td>2.274083e+06</td>\n",
       "      <td>202831.565333</td>\n",
       "      <td>1.544786</td>\n",
       "      <td>1661.663813</td>\n",
       "    </tr>\n",
       "    <tr>\n",
       "      <th>min</th>\n",
       "      <td>1.000000e+03</td>\n",
       "      <td>1132.000000</td>\n",
       "      <td>1.000000</td>\n",
       "      <td>0.000000</td>\n",
       "    </tr>\n",
       "    <tr>\n",
       "      <th>25%</th>\n",
       "      <td>3.061250e+03</td>\n",
       "      <td>3283.750000</td>\n",
       "      <td>3.000000</td>\n",
       "      <td>735.500000</td>\n",
       "    </tr>\n",
       "    <tr>\n",
       "      <th>50%</th>\n",
       "      <td>1.313275e+05</td>\n",
       "      <td>18485.000000</td>\n",
       "      <td>3.500000</td>\n",
       "      <td>2337.000000</td>\n",
       "    </tr>\n",
       "    <tr>\n",
       "      <th>75%</th>\n",
       "      <td>3.542958e+05</td>\n",
       "      <td>236985.000000</td>\n",
       "      <td>5.000000</td>\n",
       "      <td>3619.250000</td>\n",
       "    </tr>\n",
       "    <tr>\n",
       "      <th>max</th>\n",
       "      <td>7.567457e+06</td>\n",
       "      <td>651361.000000</td>\n",
       "      <td>6.000000</td>\n",
       "      <td>4600.000000</td>\n",
       "    </tr>\n",
       "  </tbody>\n",
       "</table>\n",
       "</div>"
      ],
      "text/plain": [
       "       Hourly_Income  Hourly_Expense  family_members_count   House_rent\n",
       "count   1.200000e+01       12.000000             12.000000    12.000000\n",
       "mean    1.024439e+06   145412.250000              3.750000  2360.416667\n",
       "std     2.274083e+06   202831.565333              1.544786  1661.663813\n",
       "min     1.000000e+03     1132.000000              1.000000     0.000000\n",
       "25%     3.061250e+03     3283.750000              3.000000   735.500000\n",
       "50%     1.313275e+05    18485.000000              3.500000  2337.000000\n",
       "75%     3.542958e+05   236985.000000              5.000000  3619.250000\n",
       "max     7.567457e+06   651361.000000              6.000000  4600.000000"
      ]
     },
     "execution_count": 8,
     "metadata": {},
     "output_type": "execute_result"
    }
   ],
   "source": [
    "df.describe()"
   ]
  },
  {
   "cell_type": "markdown",
   "metadata": {},
   "source": [
    "A. Display the five point summary of the data"
   ]
  },
  {
   "cell_type": "code",
   "execution_count": 9,
   "metadata": {},
   "outputs": [
    {
     "data": {
      "text/html": [
       "<div>\n",
       "<style scoped>\n",
       "    .dataframe tbody tr th:only-of-type {\n",
       "        vertical-align: middle;\n",
       "    }\n",
       "\n",
       "    .dataframe tbody tr th {\n",
       "        vertical-align: top;\n",
       "    }\n",
       "\n",
       "    .dataframe thead th {\n",
       "        text-align: right;\n",
       "    }\n",
       "</style>\n",
       "<table border=\"1\" class=\"dataframe\">\n",
       "  <thead>\n",
       "    <tr style=\"text-align: right;\">\n",
       "      <th></th>\n",
       "      <th>Hourly_Income</th>\n",
       "      <th>Hourly_Expense</th>\n",
       "      <th>family_members_count</th>\n",
       "      <th>House_rent</th>\n",
       "    </tr>\n",
       "  </thead>\n",
       "  <tbody>\n",
       "    <tr>\n",
       "      <th>0</th>\n",
       "      <td>1000</td>\n",
       "      <td>651361</td>\n",
       "      <td>3</td>\n",
       "      <td>1299</td>\n",
       "    </tr>\n",
       "    <tr>\n",
       "      <th>1</th>\n",
       "      <td>2009</td>\n",
       "      <td>217371</td>\n",
       "      <td>4</td>\n",
       "      <td>2300</td>\n",
       "    </tr>\n",
       "    <tr>\n",
       "      <th>2</th>\n",
       "      <td>24418</td>\n",
       "      <td>2746</td>\n",
       "      <td>2</td>\n",
       "      <td>3411</td>\n",
       "    </tr>\n",
       "    <tr>\n",
       "      <th>3</th>\n",
       "      <td>444478</td>\n",
       "      <td>2356</td>\n",
       "      <td>3</td>\n",
       "      <td>3422</td>\n",
       "    </tr>\n",
       "    <tr>\n",
       "      <th>4</th>\n",
       "      <td>324235</td>\n",
       "      <td>13436</td>\n",
       "      <td>1</td>\n",
       "      <td>4566</td>\n",
       "    </tr>\n",
       "    <tr>\n",
       "      <th>5</th>\n",
       "      <td>243242</td>\n",
       "      <td>5732</td>\n",
       "      <td>4</td>\n",
       "      <td>4211</td>\n",
       "    </tr>\n",
       "    <tr>\n",
       "      <th>6</th>\n",
       "      <td>3434234</td>\n",
       "      <td>346346</td>\n",
       "      <td>5</td>\n",
       "      <td>4600</td>\n",
       "    </tr>\n",
       "    <tr>\n",
       "      <th>7</th>\n",
       "      <td>7567457</td>\n",
       "      <td>3463</td>\n",
       "      <td>6</td>\n",
       "      <td>736</td>\n",
       "    </tr>\n",
       "    <tr>\n",
       "      <th>8</th>\n",
       "      <td>9235</td>\n",
       "      <td>1132</td>\n",
       "      <td>3</td>\n",
       "      <td>672</td>\n",
       "    </tr>\n",
       "    <tr>\n",
       "      <th>9</th>\n",
       "      <td>238237</td>\n",
       "      <td>23534</td>\n",
       "      <td>6</td>\n",
       "      <td>0</td>\n",
       "    </tr>\n",
       "    <tr>\n",
       "      <th>10</th>\n",
       "      <td>1312</td>\n",
       "      <td>242235</td>\n",
       "      <td>3</td>\n",
       "      <td>734</td>\n",
       "    </tr>\n",
       "    <tr>\n",
       "      <th>11</th>\n",
       "      <td>3412</td>\n",
       "      <td>235235</td>\n",
       "      <td>5</td>\n",
       "      <td>2374</td>\n",
       "    </tr>\n",
       "  </tbody>\n",
       "</table>\n",
       "</div>"
      ],
      "text/plain": [
       "    Hourly_Income  Hourly_Expense  family_members_count  House_rent\n",
       "0            1000          651361                     3        1299\n",
       "1            2009          217371                     4        2300\n",
       "2           24418            2746                     2        3411\n",
       "3          444478            2356                     3        3422\n",
       "4          324235           13436                     1        4566\n",
       "5          243242            5732                     4        4211\n",
       "6         3434234          346346                     5        4600\n",
       "7         7567457            3463                     6         736\n",
       "8            9235            1132                     3         672\n",
       "9          238237           23534                     6           0\n",
       "10           1312          242235                     3         734\n",
       "11           3412          235235                     5        2374"
      ]
     },
     "metadata": {},
     "output_type": "display_data"
    }
   ],
   "source": [
    "df_num=df.select_dtypes(include=np.number)\n",
    "\n",
    "display(df_num)"
   ]
  },
  {
   "cell_type": "markdown",
   "metadata": {},
   "source": [
    "Boxplot  is also  called  as Five point summary of the Data"
   ]
  },
  {
   "cell_type": "code",
   "execution_count": 10,
   "metadata": {},
   "outputs": [
    {
     "data": {
      "image/png": "[encoded data removed]",
      "text/plain": [
       "<Figure size 1080x576 with 4 Axes>"
      ]
     },
     "metadata": {
      "needs_background": "light"
     },
     "output_type": "display_data"
    }
   ],
   "source": [
    "fig, ax = plt.subplots(2,2, figsize=(15, 8))\n",
    "\n",
    "\n",
    "for column, subplot in zip(df.columns, ax.flatten()):\n",
    "    z = sns.boxplot(x = df[column], orient = \"h\", ax=subplot) # plot the boxplot\n",
    "    z.set_xlabel(column, fontsize = 20)\n",
    "    \n",
    "plt.tight_layout()"
   ]
  },
  {
   "cell_type": "markdown",
   "metadata": {},
   "source": [
    "We  can  see \n",
    "1) Fifty percent of the family members count is between  3  and 5\n",
    "2) Fifty percent of the House rent is between  800  and 3700\n",
    "3) Fifty percent of the Hourly expense  is between  0  and 250000"
   ]
  },
  {
   "cell_type": "markdown",
   "metadata": {},
   "source": [
    "B. What is the mean of the hourly expense?"
   ]
  },
  {
   "cell_type": "code",
   "execution_count": 11,
   "metadata": {},
   "outputs": [
    {
     "data": {
      "text/html": [
       "<div>\n",
       "<style scoped>\n",
       "    .dataframe tbody tr th:only-of-type {\n",
       "        vertical-align: middle;\n",
       "    }\n",
       "\n",
       "    .dataframe tbody tr th {\n",
       "        vertical-align: top;\n",
       "    }\n",
       "\n",
       "    .dataframe thead th {\n",
       "        text-align: right;\n",
       "    }\n",
       "</style>\n",
       "<table border=\"1\" class=\"dataframe\">\n",
       "  <thead>\n",
       "    <tr style=\"text-align: right;\">\n",
       "      <th></th>\n",
       "      <th>Hourly_Income</th>\n",
       "      <th>Hourly_Expense</th>\n",
       "      <th>family_members_count</th>\n",
       "      <th>House_rent</th>\n",
       "      <th>Highest_income_Member</th>\n",
       "    </tr>\n",
       "  </thead>\n",
       "  <tbody>\n",
       "    <tr>\n",
       "      <th>0</th>\n",
       "      <td>1000</td>\n",
       "      <td>651361</td>\n",
       "      <td>3</td>\n",
       "      <td>1299</td>\n",
       "      <td>Olivia</td>\n",
       "    </tr>\n",
       "    <tr>\n",
       "      <th>1</th>\n",
       "      <td>2009</td>\n",
       "      <td>217371</td>\n",
       "      <td>4</td>\n",
       "      <td>2300</td>\n",
       "      <td>George</td>\n",
       "    </tr>\n",
       "    <tr>\n",
       "      <th>2</th>\n",
       "      <td>24418</td>\n",
       "      <td>2746</td>\n",
       "      <td>2</td>\n",
       "      <td>3411</td>\n",
       "      <td>Isla</td>\n",
       "    </tr>\n",
       "    <tr>\n",
       "      <th>3</th>\n",
       "      <td>444478</td>\n",
       "      <td>2356</td>\n",
       "      <td>3</td>\n",
       "      <td>3422</td>\n",
       "      <td>Harry</td>\n",
       "    </tr>\n",
       "    <tr>\n",
       "      <th>4</th>\n",
       "      <td>324235</td>\n",
       "      <td>13436</td>\n",
       "      <td>1</td>\n",
       "      <td>4566</td>\n",
       "      <td>Ava</td>\n",
       "    </tr>\n",
       "  </tbody>\n",
       "</table>\n",
       "</div>"
      ],
      "text/plain": [
       "   Hourly_Income  Hourly_Expense  family_members_count  House_rent  \\\n",
       "0           1000          651361                     3        1299   \n",
       "1           2009          217371                     4        2300   \n",
       "2          24418            2746                     2        3411   \n",
       "3         444478            2356                     3        3422   \n",
       "4         324235           13436                     1        4566   \n",
       "\n",
       "  Highest_income_Member  \n",
       "0                Olivia  \n",
       "1                George  \n",
       "2                  Isla  \n",
       "3                 Harry  \n",
       "4                   Ava  "
      ]
     },
     "execution_count": 11,
     "metadata": {},
     "output_type": "execute_result"
    }
   ],
   "source": [
    "df.head()"
   ]
  },
  {
   "cell_type": "code",
   "execution_count": 12,
   "metadata": {},
   "outputs": [
    {
     "data": {
      "text/plain": [
       "145412.25"
      ]
     },
     "execution_count": 12,
     "metadata": {},
     "output_type": "execute_result"
    }
   ],
   "source": [
    "df['Hourly_Expense'].mean()"
   ]
  },
  {
   "cell_type": "markdown",
   "metadata": {},
   "source": [
    "C. What is the median of the hourly expense?"
   ]
  },
  {
   "cell_type": "code",
   "execution_count": 13,
   "metadata": {},
   "outputs": [
    {
     "data": {
      "text/plain": [
       "18485.0"
      ]
     },
     "execution_count": 13,
     "metadata": {},
     "output_type": "execute_result"
    }
   ],
   "source": [
    "df['Hourly_Expense'].median()"
   ]
  },
  {
   "cell_type": "markdown",
   "metadata": {},
   "source": [
    "D. Find the family member with maximum income and using a suitable graph."
   ]
  },
  {
   "cell_type": "code",
   "execution_count": 14,
   "metadata": {},
   "outputs": [
    {
     "data": {
      "text/html": [
       "<div>\n",
       "<style scoped>\n",
       "    .dataframe tbody tr th:only-of-type {\n",
       "        vertical-align: middle;\n",
       "    }\n",
       "\n",
       "    .dataframe tbody tr th {\n",
       "        vertical-align: top;\n",
       "    }\n",
       "\n",
       "    .dataframe thead th {\n",
       "        text-align: right;\n",
       "    }\n",
       "</style>\n",
       "<table border=\"1\" class=\"dataframe\">\n",
       "  <thead>\n",
       "    <tr style=\"text-align: right;\">\n",
       "      <th></th>\n",
       "      <th>Hourly_Income</th>\n",
       "      <th>Hourly_Expense</th>\n",
       "      <th>family_members_count</th>\n",
       "      <th>House_rent</th>\n",
       "      <th>Highest_income_Member</th>\n",
       "    </tr>\n",
       "  </thead>\n",
       "  <tbody>\n",
       "    <tr>\n",
       "      <th>0</th>\n",
       "      <td>1000</td>\n",
       "      <td>651361</td>\n",
       "      <td>3</td>\n",
       "      <td>1299</td>\n",
       "      <td>Olivia</td>\n",
       "    </tr>\n",
       "    <tr>\n",
       "      <th>1</th>\n",
       "      <td>2009</td>\n",
       "      <td>217371</td>\n",
       "      <td>4</td>\n",
       "      <td>2300</td>\n",
       "      <td>George</td>\n",
       "    </tr>\n",
       "    <tr>\n",
       "      <th>2</th>\n",
       "      <td>24418</td>\n",
       "      <td>2746</td>\n",
       "      <td>2</td>\n",
       "      <td>3411</td>\n",
       "      <td>Isla</td>\n",
       "    </tr>\n",
       "    <tr>\n",
       "      <th>3</th>\n",
       "      <td>444478</td>\n",
       "      <td>2356</td>\n",
       "      <td>3</td>\n",
       "      <td>3422</td>\n",
       "      <td>Harry</td>\n",
       "    </tr>\n",
       "    <tr>\n",
       "      <th>4</th>\n",
       "      <td>324235</td>\n",
       "      <td>13436</td>\n",
       "      <td>1</td>\n",
       "      <td>4566</td>\n",
       "      <td>Ava</td>\n",
       "    </tr>\n",
       "    <tr>\n",
       "      <th>5</th>\n",
       "      <td>243242</td>\n",
       "      <td>5732</td>\n",
       "      <td>4</td>\n",
       "      <td>4211</td>\n",
       "      <td>Noah</td>\n",
       "    </tr>\n",
       "    <tr>\n",
       "      <th>6</th>\n",
       "      <td>3434234</td>\n",
       "      <td>346346</td>\n",
       "      <td>5</td>\n",
       "      <td>4600</td>\n",
       "      <td>Sophia</td>\n",
       "    </tr>\n",
       "    <tr>\n",
       "      <th>7</th>\n",
       "      <td>7567457</td>\n",
       "      <td>3463</td>\n",
       "      <td>6</td>\n",
       "      <td>736</td>\n",
       "      <td>Jacobi</td>\n",
       "    </tr>\n",
       "    <tr>\n",
       "      <th>8</th>\n",
       "      <td>9235</td>\n",
       "      <td>1132</td>\n",
       "      <td>3</td>\n",
       "      <td>672</td>\n",
       "      <td>Freddie</td>\n",
       "    </tr>\n",
       "    <tr>\n",
       "      <th>9</th>\n",
       "      <td>238237</td>\n",
       "      <td>23534</td>\n",
       "      <td>6</td>\n",
       "      <td>0</td>\n",
       "      <td>Ella</td>\n",
       "    </tr>\n",
       "    <tr>\n",
       "      <th>10</th>\n",
       "      <td>1312</td>\n",
       "      <td>242235</td>\n",
       "      <td>3</td>\n",
       "      <td>734</td>\n",
       "      <td>Grace</td>\n",
       "    </tr>\n",
       "    <tr>\n",
       "      <th>11</th>\n",
       "      <td>3412</td>\n",
       "      <td>235235</td>\n",
       "      <td>5</td>\n",
       "      <td>2374</td>\n",
       "      <td>Ella</td>\n",
       "    </tr>\n",
       "  </tbody>\n",
       "</table>\n",
       "</div>"
      ],
      "text/plain": [
       "    Hourly_Income  Hourly_Expense  family_members_count  House_rent  \\\n",
       "0            1000          651361                     3        1299   \n",
       "1            2009          217371                     4        2300   \n",
       "2           24418            2746                     2        3411   \n",
       "3          444478            2356                     3        3422   \n",
       "4          324235           13436                     1        4566   \n",
       "5          243242            5732                     4        4211   \n",
       "6         3434234          346346                     5        4600   \n",
       "7         7567457            3463                     6         736   \n",
       "8            9235            1132                     3         672   \n",
       "9          238237           23534                     6           0   \n",
       "10           1312          242235                     3         734   \n",
       "11           3412          235235                     5        2374   \n",
       "\n",
       "   Highest_income_Member  \n",
       "0                 Olivia  \n",
       "1                 George  \n",
       "2                   Isla  \n",
       "3                  Harry  \n",
       "4                    Ava  \n",
       "5                   Noah  \n",
       "6                 Sophia  \n",
       "7                 Jacobi  \n",
       "8                Freddie  \n",
       "9                   Ella  \n",
       "10                 Grace  \n",
       "11                  Ella  "
      ]
     },
     "execution_count": 14,
     "metadata": {},
     "output_type": "execute_result"
    }
   ],
   "source": [
    "df"
   ]
  },
  {
   "cell_type": "code",
   "execution_count": 15,
   "metadata": {},
   "outputs": [
    {
     "data": {
      "text/plain": [
       "<matplotlib.axes._subplots.AxesSubplot at 0x1f9a1d24550>"
      ]
     },
     "execution_count": 15,
     "metadata": {},
     "output_type": "execute_result"
    },
    {
     "data": {
      "image/png": "[encoded data removed]",
      "text/plain": [
       "<Figure size 864x576 with 1 Axes>"
      ]
     },
     "metadata": {
      "needs_background": "light"
     },
     "output_type": "display_data"
    }
   ],
   "source": [
    "plt.figure(figsize=(12,8))\n",
    "\n",
    "sns.lineplot(df['Highest_income_Member'],y=df['Hourly_Income'])"
   ]
  },
  {
   "cell_type": "code",
   "execution_count": 16,
   "metadata": {},
   "outputs": [
    {
     "data": {
      "text/html": [
       "<div>\n",
       "<style scoped>\n",
       "    .dataframe tbody tr th:only-of-type {\n",
       "        vertical-align: middle;\n",
       "    }\n",
       "\n",
       "    .dataframe tbody tr th {\n",
       "        vertical-align: top;\n",
       "    }\n",
       "\n",
       "    .dataframe thead th {\n",
       "        text-align: right;\n",
       "    }\n",
       "</style>\n",
       "<table border=\"1\" class=\"dataframe\">\n",
       "  <thead>\n",
       "    <tr style=\"text-align: right;\">\n",
       "      <th></th>\n",
       "      <th>Hourly_Income</th>\n",
       "    </tr>\n",
       "    <tr>\n",
       "      <th>Highest_income_Member</th>\n",
       "      <th></th>\n",
       "    </tr>\n",
       "  </thead>\n",
       "  <tbody>\n",
       "    <tr>\n",
       "      <th>Jacobi</th>\n",
       "      <td>7567457</td>\n",
       "    </tr>\n",
       "    <tr>\n",
       "      <th>Sophia</th>\n",
       "      <td>3434234</td>\n",
       "    </tr>\n",
       "    <tr>\n",
       "      <th>Harry</th>\n",
       "      <td>444478</td>\n",
       "    </tr>\n",
       "    <tr>\n",
       "      <th>Ava</th>\n",
       "      <td>324235</td>\n",
       "    </tr>\n",
       "    <tr>\n",
       "      <th>Noah</th>\n",
       "      <td>243242</td>\n",
       "    </tr>\n",
       "    <tr>\n",
       "      <th>Ella</th>\n",
       "      <td>238237</td>\n",
       "    </tr>\n",
       "    <tr>\n",
       "      <th>Isla</th>\n",
       "      <td>24418</td>\n",
       "    </tr>\n",
       "    <tr>\n",
       "      <th>Freddie</th>\n",
       "      <td>9235</td>\n",
       "    </tr>\n",
       "    <tr>\n",
       "      <th>George</th>\n",
       "      <td>2009</td>\n",
       "    </tr>\n",
       "    <tr>\n",
       "      <th>Grace</th>\n",
       "      <td>1312</td>\n",
       "    </tr>\n",
       "    <tr>\n",
       "      <th>Olivia</th>\n",
       "      <td>1000</td>\n",
       "    </tr>\n",
       "  </tbody>\n",
       "</table>\n",
       "</div>"
      ],
      "text/plain": [
       "                       Hourly_Income\n",
       "Highest_income_Member               \n",
       "Jacobi                       7567457\n",
       "Sophia                       3434234\n",
       "Harry                         444478\n",
       "Ava                           324235\n",
       "Noah                          243242\n",
       "Ella                          238237\n",
       "Isla                           24418\n",
       "Freddie                         9235\n",
       "George                          2009\n",
       "Grace                           1312\n",
       "Olivia                          1000"
      ]
     },
     "execution_count": 16,
     "metadata": {},
     "output_type": "execute_result"
    }
   ],
   "source": [
    "c=df.groupby(['Highest_income_Member'])[['Hourly_Income']].max()\n",
    "c.sort_values(by=['Hourly_Income'],ascending=False)"
   ]
  },
  {
   "cell_type": "code",
   "execution_count": 17,
   "metadata": {},
   "outputs": [
    {
     "data": {
      "text/html": [
       "<div>\n",
       "<style scoped>\n",
       "    .dataframe tbody tr th:only-of-type {\n",
       "        vertical-align: middle;\n",
       "    }\n",
       "\n",
       "    .dataframe tbody tr th {\n",
       "        vertical-align: top;\n",
       "    }\n",
       "\n",
       "    .dataframe thead th {\n",
       "        text-align: right;\n",
       "    }\n",
       "</style>\n",
       "<table border=\"1\" class=\"dataframe\">\n",
       "  <thead>\n",
       "    <tr style=\"text-align: right;\">\n",
       "      <th></th>\n",
       "      <th>Hourly_Income</th>\n",
       "    </tr>\n",
       "    <tr>\n",
       "      <th>Highest_income_Member</th>\n",
       "      <th></th>\n",
       "    </tr>\n",
       "  </thead>\n",
       "  <tbody>\n",
       "    <tr>\n",
       "      <th>Jacobi</th>\n",
       "      <td>7567457</td>\n",
       "    </tr>\n",
       "  </tbody>\n",
       "</table>\n",
       "</div>"
      ],
      "text/plain": [
       "                       Hourly_Income\n",
       "Highest_income_Member               \n",
       "Jacobi                       7567457"
      ]
     },
     "execution_count": 17,
     "metadata": {},
     "output_type": "execute_result"
    }
   ],
   "source": [
    "c.sort_values(by=['Hourly_Income'],ascending=False).head(1)"
   ]
  },
  {
   "cell_type": "markdown",
   "metadata": {},
   "source": [
    "Jacobi is the family member with the highest income"
   ]
  },
  {
   "cell_type": "markdown",
   "metadata": {},
   "source": [
    "E. Calculate IQR(the difference between 75% and 25% quartile) for Hourly_Income and Hourly_Expense"
   ]
  },
  {
   "cell_type": "code",
   "execution_count": 18,
   "metadata": {},
   "outputs": [
    {
     "data": {
      "text/plain": [
       "Hourly_Income     351234.50\n",
       "Hourly_Expense    233701.25\n",
       "dtype: float64"
      ]
     },
     "execution_count": 18,
     "metadata": {},
     "output_type": "execute_result"
    }
   ],
   "source": [
    "def IQR(x):\n",
    "    return  np.subtract(*np.percentile(x,[75,25]))\n",
    "\n",
    "\n",
    "df[['Hourly_Income','Hourly_Expense']].apply(IQR)   #INTERQUARTILE RANGE"
   ]
  },
  {
   "cell_type": "code",
   "execution_count": 19,
   "metadata": {},
   "outputs": [
    {
     "data": {
      "text/plain": [
       "351234.5"
      ]
     },
     "execution_count": 19,
     "metadata": {},
     "output_type": "execute_result"
    }
   ],
   "source": [
    "df['Hourly_Income'].quantile(0.75)-df['Hourly_Income'].quantile(0.25)   #IQR  FOR HOURLY INCOME"
   ]
  },
  {
   "cell_type": "code",
   "execution_count": 20,
   "metadata": {},
   "outputs": [
    {
     "data": {
      "text/plain": [
       "233701.25"
      ]
     },
     "execution_count": 20,
     "metadata": {},
     "output_type": "execute_result"
    }
   ],
   "source": [
    "df['Hourly_Expense'].quantile(0.75)-df['Hourly_Expense'].quantile(0.25)  #IQR  FOR HOURLY EXPENSE"
   ]
  },
  {
   "cell_type": "markdown",
   "metadata": {},
   "source": [
    "F. Calculate the standard deviation for first 2 columns."
   ]
  },
  {
   "cell_type": "code",
   "execution_count": 21,
   "metadata": {},
   "outputs": [
    {
     "data": {
      "text/html": [
       "<div>\n",
       "<style scoped>\n",
       "    .dataframe tbody tr th:only-of-type {\n",
       "        vertical-align: middle;\n",
       "    }\n",
       "\n",
       "    .dataframe tbody tr th {\n",
       "        vertical-align: top;\n",
       "    }\n",
       "\n",
       "    .dataframe thead th {\n",
       "        text-align: right;\n",
       "    }\n",
       "</style>\n",
       "<table border=\"1\" class=\"dataframe\">\n",
       "  <thead>\n",
       "    <tr style=\"text-align: right;\">\n",
       "      <th></th>\n",
       "      <th>Hourly_Income</th>\n",
       "      <th>Hourly_Expense</th>\n",
       "      <th>family_members_count</th>\n",
       "      <th>House_rent</th>\n",
       "      <th>Highest_income_Member</th>\n",
       "    </tr>\n",
       "  </thead>\n",
       "  <tbody>\n",
       "    <tr>\n",
       "      <th>0</th>\n",
       "      <td>1000</td>\n",
       "      <td>651361</td>\n",
       "      <td>3</td>\n",
       "      <td>1299</td>\n",
       "      <td>Olivia</td>\n",
       "    </tr>\n",
       "    <tr>\n",
       "      <th>1</th>\n",
       "      <td>2009</td>\n",
       "      <td>217371</td>\n",
       "      <td>4</td>\n",
       "      <td>2300</td>\n",
       "      <td>George</td>\n",
       "    </tr>\n",
       "    <tr>\n",
       "      <th>2</th>\n",
       "      <td>24418</td>\n",
       "      <td>2746</td>\n",
       "      <td>2</td>\n",
       "      <td>3411</td>\n",
       "      <td>Isla</td>\n",
       "    </tr>\n",
       "    <tr>\n",
       "      <th>3</th>\n",
       "      <td>444478</td>\n",
       "      <td>2356</td>\n",
       "      <td>3</td>\n",
       "      <td>3422</td>\n",
       "      <td>Harry</td>\n",
       "    </tr>\n",
       "    <tr>\n",
       "      <th>4</th>\n",
       "      <td>324235</td>\n",
       "      <td>13436</td>\n",
       "      <td>1</td>\n",
       "      <td>4566</td>\n",
       "      <td>Ava</td>\n",
       "    </tr>\n",
       "  </tbody>\n",
       "</table>\n",
       "</div>"
      ],
      "text/plain": [
       "   Hourly_Income  Hourly_Expense  family_members_count  House_rent  \\\n",
       "0           1000          651361                     3        1299   \n",
       "1           2009          217371                     4        2300   \n",
       "2          24418            2746                     2        3411   \n",
       "3         444478            2356                     3        3422   \n",
       "4         324235           13436                     1        4566   \n",
       "\n",
       "  Highest_income_Member  \n",
       "0                Olivia  \n",
       "1                George  \n",
       "2                  Isla  \n",
       "3                 Harry  \n",
       "4                   Ava  "
      ]
     },
     "execution_count": 21,
     "metadata": {},
     "output_type": "execute_result"
    }
   ],
   "source": [
    "df.head()"
   ]
  },
  {
   "cell_type": "code",
   "execution_count": 22,
   "metadata": {},
   "outputs": [
    {
     "data": {
      "text/html": [
       "<div>\n",
       "<style scoped>\n",
       "    .dataframe tbody tr th:only-of-type {\n",
       "        vertical-align: middle;\n",
       "    }\n",
       "\n",
       "    .dataframe tbody tr th {\n",
       "        vertical-align: top;\n",
       "    }\n",
       "\n",
       "    .dataframe thead th {\n",
       "        text-align: right;\n",
       "    }\n",
       "</style>\n",
       "<table border=\"1\" class=\"dataframe\">\n",
       "  <thead>\n",
       "    <tr style=\"text-align: right;\">\n",
       "      <th></th>\n",
       "      <th>Hourly_Income</th>\n",
       "      <th>Hourly_Expense</th>\n",
       "    </tr>\n",
       "  </thead>\n",
       "  <tbody>\n",
       "    <tr>\n",
       "      <th>0</th>\n",
       "      <td>1000</td>\n",
       "      <td>651361</td>\n",
       "    </tr>\n",
       "    <tr>\n",
       "      <th>1</th>\n",
       "      <td>2009</td>\n",
       "      <td>217371</td>\n",
       "    </tr>\n",
       "    <tr>\n",
       "      <th>2</th>\n",
       "      <td>24418</td>\n",
       "      <td>2746</td>\n",
       "    </tr>\n",
       "    <tr>\n",
       "      <th>3</th>\n",
       "      <td>444478</td>\n",
       "      <td>2356</td>\n",
       "    </tr>\n",
       "    <tr>\n",
       "      <th>4</th>\n",
       "      <td>324235</td>\n",
       "      <td>13436</td>\n",
       "    </tr>\n",
       "    <tr>\n",
       "      <th>5</th>\n",
       "      <td>243242</td>\n",
       "      <td>5732</td>\n",
       "    </tr>\n",
       "    <tr>\n",
       "      <th>6</th>\n",
       "      <td>3434234</td>\n",
       "      <td>346346</td>\n",
       "    </tr>\n",
       "    <tr>\n",
       "      <th>7</th>\n",
       "      <td>7567457</td>\n",
       "      <td>3463</td>\n",
       "    </tr>\n",
       "    <tr>\n",
       "      <th>8</th>\n",
       "      <td>9235</td>\n",
       "      <td>1132</td>\n",
       "    </tr>\n",
       "    <tr>\n",
       "      <th>9</th>\n",
       "      <td>238237</td>\n",
       "      <td>23534</td>\n",
       "    </tr>\n",
       "    <tr>\n",
       "      <th>10</th>\n",
       "      <td>1312</td>\n",
       "      <td>242235</td>\n",
       "    </tr>\n",
       "    <tr>\n",
       "      <th>11</th>\n",
       "      <td>3412</td>\n",
       "      <td>235235</td>\n",
       "    </tr>\n",
       "  </tbody>\n",
       "</table>\n",
       "</div>"
      ],
      "text/plain": [
       "    Hourly_Income  Hourly_Expense\n",
       "0            1000          651361\n",
       "1            2009          217371\n",
       "2           24418            2746\n",
       "3          444478            2356\n",
       "4          324235           13436\n",
       "5          243242            5732\n",
       "6         3434234          346346\n",
       "7         7567457            3463\n",
       "8            9235            1132\n",
       "9          238237           23534\n",
       "10           1312          242235\n",
       "11           3412          235235"
      ]
     },
     "execution_count": 22,
     "metadata": {},
     "output_type": "execute_result"
    }
   ],
   "source": [
    "df.iloc[:,:2]"
   ]
  },
  {
   "cell_type": "code",
   "execution_count": 23,
   "metadata": {},
   "outputs": [
    {
     "data": {
      "text/plain": [
       "Hourly_Income     2.274083e+06\n",
       "Hourly_Expense    2.028316e+05\n",
       "dtype: float64"
      ]
     },
     "execution_count": 23,
     "metadata": {},
     "output_type": "execute_result"
    }
   ],
   "source": [
    "df.iloc[:,:2].std()"
   ]
  },
  {
   "cell_type": "markdown",
   "metadata": {},
   "source": [
    "G. Calculate variance for the first 4 columns"
   ]
  },
  {
   "cell_type": "code",
   "execution_count": 24,
   "metadata": {},
   "outputs": [
    {
     "data": {
      "text/html": [
       "<div>\n",
       "<style scoped>\n",
       "    .dataframe tbody tr th:only-of-type {\n",
       "        vertical-align: middle;\n",
       "    }\n",
       "\n",
       "    .dataframe tbody tr th {\n",
       "        vertical-align: top;\n",
       "    }\n",
       "\n",
       "    .dataframe thead th {\n",
       "        text-align: right;\n",
       "    }\n",
       "</style>\n",
       "<table border=\"1\" class=\"dataframe\">\n",
       "  <thead>\n",
       "    <tr style=\"text-align: right;\">\n",
       "      <th></th>\n",
       "      <th>Hourly_Income</th>\n",
       "      <th>Hourly_Expense</th>\n",
       "      <th>family_members_count</th>\n",
       "      <th>House_rent</th>\n",
       "    </tr>\n",
       "  </thead>\n",
       "  <tbody>\n",
       "    <tr>\n",
       "      <th>0</th>\n",
       "      <td>1000</td>\n",
       "      <td>651361</td>\n",
       "      <td>3</td>\n",
       "      <td>1299</td>\n",
       "    </tr>\n",
       "    <tr>\n",
       "      <th>1</th>\n",
       "      <td>2009</td>\n",
       "      <td>217371</td>\n",
       "      <td>4</td>\n",
       "      <td>2300</td>\n",
       "    </tr>\n",
       "    <tr>\n",
       "      <th>2</th>\n",
       "      <td>24418</td>\n",
       "      <td>2746</td>\n",
       "      <td>2</td>\n",
       "      <td>3411</td>\n",
       "    </tr>\n",
       "    <tr>\n",
       "      <th>3</th>\n",
       "      <td>444478</td>\n",
       "      <td>2356</td>\n",
       "      <td>3</td>\n",
       "      <td>3422</td>\n",
       "    </tr>\n",
       "    <tr>\n",
       "      <th>4</th>\n",
       "      <td>324235</td>\n",
       "      <td>13436</td>\n",
       "      <td>1</td>\n",
       "      <td>4566</td>\n",
       "    </tr>\n",
       "    <tr>\n",
       "      <th>5</th>\n",
       "      <td>243242</td>\n",
       "      <td>5732</td>\n",
       "      <td>4</td>\n",
       "      <td>4211</td>\n",
       "    </tr>\n",
       "    <tr>\n",
       "      <th>6</th>\n",
       "      <td>3434234</td>\n",
       "      <td>346346</td>\n",
       "      <td>5</td>\n",
       "      <td>4600</td>\n",
       "    </tr>\n",
       "    <tr>\n",
       "      <th>7</th>\n",
       "      <td>7567457</td>\n",
       "      <td>3463</td>\n",
       "      <td>6</td>\n",
       "      <td>736</td>\n",
       "    </tr>\n",
       "    <tr>\n",
       "      <th>8</th>\n",
       "      <td>9235</td>\n",
       "      <td>1132</td>\n",
       "      <td>3</td>\n",
       "      <td>672</td>\n",
       "    </tr>\n",
       "    <tr>\n",
       "      <th>9</th>\n",
       "      <td>238237</td>\n",
       "      <td>23534</td>\n",
       "      <td>6</td>\n",
       "      <td>0</td>\n",
       "    </tr>\n",
       "    <tr>\n",
       "      <th>10</th>\n",
       "      <td>1312</td>\n",
       "      <td>242235</td>\n",
       "      <td>3</td>\n",
       "      <td>734</td>\n",
       "    </tr>\n",
       "    <tr>\n",
       "      <th>11</th>\n",
       "      <td>3412</td>\n",
       "      <td>235235</td>\n",
       "      <td>5</td>\n",
       "      <td>2374</td>\n",
       "    </tr>\n",
       "  </tbody>\n",
       "</table>\n",
       "</div>"
      ],
      "text/plain": [
       "    Hourly_Income  Hourly_Expense  family_members_count  House_rent\n",
       "0            1000          651361                     3        1299\n",
       "1            2009          217371                     4        2300\n",
       "2           24418            2746                     2        3411\n",
       "3          444478            2356                     3        3422\n",
       "4          324235           13436                     1        4566\n",
       "5          243242            5732                     4        4211\n",
       "6         3434234          346346                     5        4600\n",
       "7         7567457            3463                     6         736\n",
       "8            9235            1132                     3         672\n",
       "9          238237           23534                     6           0\n",
       "10           1312          242235                     3         734\n",
       "11           3412          235235                     5        2374"
      ]
     },
     "execution_count": 24,
     "metadata": {},
     "output_type": "execute_result"
    }
   ],
   "source": [
    "df.iloc[:,:4]"
   ]
  },
  {
   "cell_type": "code",
   "execution_count": 25,
   "metadata": {},
   "outputs": [
    {
     "data": {
      "text/plain": [
       "Hourly_Income           5.171452e+12\n",
       "Hourly_Expense          4.114064e+10\n",
       "family_members_count    2.386364e+00\n",
       "House_rent              2.761127e+06\n",
       "dtype: float64"
      ]
     },
     "execution_count": 25,
     "metadata": {},
     "output_type": "execute_result"
    }
   ],
   "source": [
    "df.iloc[:,:4].var()"
   ]
  },
  {
   "cell_type": "code",
   "execution_count": null,
   "metadata": {},
   "outputs": [],
   "source": []
  },
  {
   "cell_type": "markdown",
   "metadata": {},
   "source": [
    "<h4 class=\"list-group-item list-group-item-action active\" >2. Preliminary Wrangling,</h4>\n",
    "\n",
    ">### Dataset Information: \n",
    "\n",
    "Dataset recording people to invest in each other in a way that is financially and socially rewarding. On loans, borrowers list loan requests between $ 2,000 and $ 35,000 and individual investors invest as little as $ 25 in each loan listing they select. Prosper handles the servicing of the loan on behalf of the matched borrowers and investors.\n",
    "\n",
    "\n",
    "\n",
    "\n",
    ">#### A. Read the dataset called Pri-Load.csv\n",
    ">#### B.  Check the data type and adjust datatype for all other categorical columns.\n",
    ">#### C. If you find any of the missing values in the ProsperRating column, then drop it.\n",
    "\n"
   ]
  },
  {
   "cell_type": "markdown",
   "metadata": {},
   "source": [
    "A. Read the dataset called Pri-Load.csv"
   ]
  },
  {
   "cell_type": "code",
   "execution_count": 3,
   "metadata": {},
   "outputs": [
    {
     "data": {
      "text/html": [
       "<div>\n",
       "<style scoped>\n",
       "    .dataframe tbody tr th:only-of-type {\n",
       "        vertical-align: middle;\n",
       "    }\n",
       "\n",
       "    .dataframe tbody tr th {\n",
       "        vertical-align: top;\n",
       "    }\n",
       "\n",
       "    .dataframe thead th {\n",
       "        text-align: right;\n",
       "    }\n",
       "</style>\n",
       "<table border=\"1\" class=\"dataframe\">\n",
       "  <thead>\n",
       "    <tr style=\"text-align: right;\">\n",
       "      <th></th>\n",
       "      <th>ListingCreationDate</th>\n",
       "      <th>Term</th>\n",
       "      <th>LoanStatus</th>\n",
       "      <th>ClosedDate</th>\n",
       "      <th>BorrowerAPR</th>\n",
       "      <th>BorrowerRate</th>\n",
       "      <th>LenderYield</th>\n",
       "      <th>ProsperRating (Alpha)</th>\n",
       "      <th>ProsperScore</th>\n",
       "      <th>ListingCategory (numeric)</th>\n",
       "      <th>...</th>\n",
       "      <th>EmploymentStatus</th>\n",
       "      <th>AmountDelinquent</th>\n",
       "      <th>StatedMonthlyIncome</th>\n",
       "      <th>LoanCurrentDaysDelinquent</th>\n",
       "      <th>LoanOriginalAmount</th>\n",
       "      <th>LoanOriginationDate</th>\n",
       "      <th>LoanOriginationQuarter</th>\n",
       "      <th>MonthlyLoanPayment</th>\n",
       "      <th>LP_InterestandFees</th>\n",
       "      <th>Investors</th>\n",
       "    </tr>\n",
       "  </thead>\n",
       "  <tbody>\n",
       "    <tr>\n",
       "      <th>0</th>\n",
       "      <td>2007-08-26 19:09:29.263000000</td>\n",
       "      <td>36</td>\n",
       "      <td>Completed</td>\n",
       "      <td>14-08-2009 0.00</td>\n",
       "      <td>0.16516</td>\n",
       "      <td>0.1580</td>\n",
       "      <td>0.1380</td>\n",
       "      <td>NaN</td>\n",
       "      <td>NaN</td>\n",
       "      <td>0</td>\n",
       "      <td>...</td>\n",
       "      <td>Self-employed</td>\n",
       "      <td>472.0</td>\n",
       "      <td>3083.333333</td>\n",
       "      <td>0</td>\n",
       "      <td>9425</td>\n",
       "      <td>12-09-2007 0.00</td>\n",
       "      <td>Q3 2007</td>\n",
       "      <td>330.43</td>\n",
       "      <td>1971.14</td>\n",
       "      <td>258</td>\n",
       "    </tr>\n",
       "    <tr>\n",
       "      <th>1</th>\n",
       "      <td>2014-02-27 08:28:07.900000000</td>\n",
       "      <td>36</td>\n",
       "      <td>Current</td>\n",
       "      <td>NaN</td>\n",
       "      <td>0.12016</td>\n",
       "      <td>0.0920</td>\n",
       "      <td>0.0820</td>\n",
       "      <td>A</td>\n",
       "      <td>7.0</td>\n",
       "      <td>2</td>\n",
       "      <td>...</td>\n",
       "      <td>Employed</td>\n",
       "      <td>0.0</td>\n",
       "      <td>6125.000000</td>\n",
       "      <td>0</td>\n",
       "      <td>10000</td>\n",
       "      <td>03-03-2014 0.00</td>\n",
       "      <td>Q1 2014</td>\n",
       "      <td>318.93</td>\n",
       "      <td>0.00</td>\n",
       "      <td>1</td>\n",
       "    </tr>\n",
       "    <tr>\n",
       "      <th>2</th>\n",
       "      <td>2007-01-05 15:00:47.090000000</td>\n",
       "      <td>36</td>\n",
       "      <td>Completed</td>\n",
       "      <td>17-12-2009 0.00</td>\n",
       "      <td>0.28269</td>\n",
       "      <td>0.2750</td>\n",
       "      <td>0.2400</td>\n",
       "      <td>NaN</td>\n",
       "      <td>NaN</td>\n",
       "      <td>0</td>\n",
       "      <td>...</td>\n",
       "      <td>Not available</td>\n",
       "      <td>NaN</td>\n",
       "      <td>2083.333333</td>\n",
       "      <td>0</td>\n",
       "      <td>3001</td>\n",
       "      <td>17-01-2007 0.00</td>\n",
       "      <td>Q1 2007</td>\n",
       "      <td>123.32</td>\n",
       "      <td>1185.63</td>\n",
       "      <td>41</td>\n",
       "    </tr>\n",
       "    <tr>\n",
       "      <th>3</th>\n",
       "      <td>2012-10-22 11:02:35.010000000</td>\n",
       "      <td>36</td>\n",
       "      <td>Current</td>\n",
       "      <td>NaN</td>\n",
       "      <td>0.12528</td>\n",
       "      <td>0.0974</td>\n",
       "      <td>0.0874</td>\n",
       "      <td>A</td>\n",
       "      <td>9.0</td>\n",
       "      <td>16</td>\n",
       "      <td>...</td>\n",
       "      <td>Employed</td>\n",
       "      <td>10056.0</td>\n",
       "      <td>2875.000000</td>\n",
       "      <td>0</td>\n",
       "      <td>10000</td>\n",
       "      <td>01-11-2012 0.00</td>\n",
       "      <td>Q4 2012</td>\n",
       "      <td>321.45</td>\n",
       "      <td>1052.11</td>\n",
       "      <td>158</td>\n",
       "    </tr>\n",
       "    <tr>\n",
       "      <th>4</th>\n",
       "      <td>2013-09-14 18:38:39.097000000</td>\n",
       "      <td>36</td>\n",
       "      <td>Current</td>\n",
       "      <td>NaN</td>\n",
       "      <td>0.24614</td>\n",
       "      <td>0.2085</td>\n",
       "      <td>0.1985</td>\n",
       "      <td>D</td>\n",
       "      <td>4.0</td>\n",
       "      <td>2</td>\n",
       "      <td>...</td>\n",
       "      <td>Employed</td>\n",
       "      <td>0.0</td>\n",
       "      <td>9583.333333</td>\n",
       "      <td>0</td>\n",
       "      <td>15000</td>\n",
       "      <td>20-09-2013 0.00</td>\n",
       "      <td>Q3 2013</td>\n",
       "      <td>563.97</td>\n",
       "      <td>1256.63</td>\n",
       "      <td>20</td>\n",
       "    </tr>\n",
       "  </tbody>\n",
       "</table>\n",
       "<p>5 rows × 22 columns</p>\n",
       "</div>"
      ],
      "text/plain": [
       "             ListingCreationDate  Term LoanStatus       ClosedDate  \\\n",
       "0  2007-08-26 19:09:29.263000000    36  Completed  14-08-2009 0.00   \n",
       "1  2014-02-27 08:28:07.900000000    36    Current              NaN   \n",
       "2  2007-01-05 15:00:47.090000000    36  Completed  17-12-2009 0.00   \n",
       "3  2012-10-22 11:02:35.010000000    36    Current              NaN   \n",
       "4  2013-09-14 18:38:39.097000000    36    Current              NaN   \n",
       "\n",
       "   BorrowerAPR  BorrowerRate  LenderYield ProsperRating (Alpha)  ProsperScore  \\\n",
       "0      0.16516        0.1580       0.1380                   NaN           NaN   \n",
       "1      0.12016        0.0920       0.0820                     A           7.0   \n",
       "2      0.28269        0.2750       0.2400                   NaN           NaN   \n",
       "3      0.12528        0.0974       0.0874                     A           9.0   \n",
       "4      0.24614        0.2085       0.1985                     D           4.0   \n",
       "\n",
       "   ListingCategory (numeric)  ... EmploymentStatus AmountDelinquent  \\\n",
       "0                          0  ...    Self-employed            472.0   \n",
       "1                          2  ...         Employed              0.0   \n",
       "2                          0  ...    Not available              NaN   \n",
       "3                         16  ...         Employed          10056.0   \n",
       "4                          2  ...         Employed              0.0   \n",
       "\n",
       "  StatedMonthlyIncome  LoanCurrentDaysDelinquent  LoanOriginalAmount  \\\n",
       "0         3083.333333                          0                9425   \n",
       "1         6125.000000                          0               10000   \n",
       "2         2083.333333                          0                3001   \n",
       "3         2875.000000                          0               10000   \n",
       "4         9583.333333                          0               15000   \n",
       "\n",
       "   LoanOriginationDate  LoanOriginationQuarter MonthlyLoanPayment  \\\n",
       "0      12-09-2007 0.00                 Q3 2007             330.43   \n",
       "1      03-03-2014 0.00                 Q1 2014             318.93   \n",
       "2      17-01-2007 0.00                 Q1 2007             123.32   \n",
       "3      01-11-2012 0.00                 Q4 2012             321.45   \n",
       "4      20-09-2013 0.00                 Q3 2013             563.97   \n",
       "\n",
       "  LP_InterestandFees  Investors  \n",
       "0            1971.14        258  \n",
       "1               0.00          1  \n",
       "2            1185.63         41  \n",
       "3            1052.11        158  \n",
       "4            1256.63         20  \n",
       "\n",
       "[5 rows x 22 columns]"
      ]
     },
     "execution_count": 3,
     "metadata": {},
     "output_type": "execute_result"
    }
   ],
   "source": [
    "df1=pd.read_csv('Pri-Load.csv')\n",
    "\n",
    "df1.head()"
   ]
  },
  {
   "cell_type": "markdown",
   "metadata": {},
   "source": [
    "B. Check the data type and adjust datatype for all other categorical columns"
   ]
  },
  {
   "cell_type": "code",
   "execution_count": 4,
   "metadata": {},
   "outputs": [
    {
     "data": {
      "text/plain": [
       "ListingCreationDate           object\n",
       "Term                           int64\n",
       "LoanStatus                    object\n",
       "ClosedDate                    object\n",
       "BorrowerAPR                  float64\n",
       "BorrowerRate                 float64\n",
       "LenderYield                  float64\n",
       "ProsperRating (Alpha)         object\n",
       "ProsperScore                 float64\n",
       "ListingCategory (numeric)      int64\n",
       "BorrowerState                 object\n",
       "Occupation                    object\n",
       "EmploymentStatus              object\n",
       "AmountDelinquent             float64\n",
       "StatedMonthlyIncome          float64\n",
       "LoanCurrentDaysDelinquent      int64\n",
       "LoanOriginalAmount             int64\n",
       "LoanOriginationDate           object\n",
       "LoanOriginationQuarter        object\n",
       "MonthlyLoanPayment           float64\n",
       "LP_InterestandFees           float64\n",
       "Investors                      int64\n",
       "dtype: object"
      ]
     },
     "execution_count": 4,
     "metadata": {},
     "output_type": "execute_result"
    }
   ],
   "source": [
    "df1.dtypes"
   ]
  },
  {
   "cell_type": "code",
   "execution_count": 5,
   "metadata": {},
   "outputs": [
    {
     "name": "stdout",
     "output_type": "stream",
     "text": [
      "<class 'pandas.core.frame.DataFrame'>\n",
      "RangeIndex: 1035 entries, 0 to 1034\n",
      "Data columns (total 22 columns):\n",
      " #   Column                     Non-Null Count  Dtype  \n",
      "---  ------                     --------------  -----  \n",
      " 0   ListingCreationDate        1035 non-null   object \n",
      " 1   Term                       1035 non-null   int64  \n",
      " 2   LoanStatus                 1035 non-null   object \n",
      " 3   ClosedDate                 479 non-null    object \n",
      " 4   BorrowerAPR                1035 non-null   float64\n",
      " 5   BorrowerRate               1035 non-null   float64\n",
      " 6   LenderYield                1035 non-null   float64\n",
      " 7   ProsperRating (Alpha)      783 non-null    object \n",
      " 8   ProsperScore               783 non-null    float64\n",
      " 9   ListingCategory (numeric)  1035 non-null   int64  \n",
      " 10  BorrowerState              983 non-null    object \n",
      " 11  Occupation                 996 non-null    object \n",
      " 12  EmploymentStatus           1010 non-null   object \n",
      " 13  AmountDelinquent           954 non-null    float64\n",
      " 14  StatedMonthlyIncome        1035 non-null   float64\n",
      " 15  LoanCurrentDaysDelinquent  1035 non-null   int64  \n",
      " 16  LoanOriginalAmount         1035 non-null   int64  \n",
      " 17  LoanOriginationDate        1035 non-null   object \n",
      " 18  LoanOriginationQuarter     1035 non-null   object \n",
      " 19  MonthlyLoanPayment         1035 non-null   float64\n",
      " 20  LP_InterestandFees         1035 non-null   float64\n",
      " 21  Investors                  1035 non-null   int64  \n",
      "dtypes: float64(8), int64(5), object(9)\n",
      "memory usage: 178.0+ KB\n"
     ]
    }
   ],
   "source": [
    "df1.info()"
   ]
  },
  {
   "cell_type": "code",
   "execution_count": 6,
   "metadata": {},
   "outputs": [
    {
     "data": {
      "text/plain": [
       "Index(['ListingCreationDate', 'Term', 'LoanStatus', 'ClosedDate',\n",
       "       'BorrowerAPR', 'BorrowerRate', 'LenderYield', 'ProsperRating (Alpha)',\n",
       "       'ProsperScore', 'ListingCategory (numeric)', 'BorrowerState',\n",
       "       'Occupation', 'EmploymentStatus', 'AmountDelinquent',\n",
       "       'StatedMonthlyIncome', 'LoanCurrentDaysDelinquent',\n",
       "       'LoanOriginalAmount', 'LoanOriginationDate', 'LoanOriginationQuarter',\n",
       "       'MonthlyLoanPayment', 'LP_InterestandFees', 'Investors'],\n",
       "      dtype='object')"
      ]
     },
     "execution_count": 6,
     "metadata": {},
     "output_type": "execute_result"
    }
   ],
   "source": [
    "df1.columns"
   ]
  },
  {
   "cell_type": "code",
   "execution_count": 7,
   "metadata": {},
   "outputs": [
    {
     "data": {
      "text/html": [
       "<div>\n",
       "<style scoped>\n",
       "    .dataframe tbody tr th:only-of-type {\n",
       "        vertical-align: middle;\n",
       "    }\n",
       "\n",
       "    .dataframe tbody tr th {\n",
       "        vertical-align: top;\n",
       "    }\n",
       "\n",
       "    .dataframe thead th {\n",
       "        text-align: right;\n",
       "    }\n",
       "</style>\n",
       "<table border=\"1\" class=\"dataframe\">\n",
       "  <thead>\n",
       "    <tr style=\"text-align: right;\">\n",
       "      <th></th>\n",
       "      <th>ListingCreationDate</th>\n",
       "      <th>LoanStatus</th>\n",
       "      <th>ClosedDate</th>\n",
       "      <th>ProsperRating (Alpha)</th>\n",
       "      <th>BorrowerState</th>\n",
       "      <th>Occupation</th>\n",
       "      <th>EmploymentStatus</th>\n",
       "      <th>LoanOriginationDate</th>\n",
       "      <th>LoanOriginationQuarter</th>\n",
       "    </tr>\n",
       "  </thead>\n",
       "  <tbody>\n",
       "    <tr>\n",
       "      <th>0</th>\n",
       "      <td>2007-08-26 19:09:29.263000000</td>\n",
       "      <td>Completed</td>\n",
       "      <td>14-08-2009 0.00</td>\n",
       "      <td>NaN</td>\n",
       "      <td>CO</td>\n",
       "      <td>Other</td>\n",
       "      <td>Self-employed</td>\n",
       "      <td>12-09-2007 0.00</td>\n",
       "      <td>Q3 2007</td>\n",
       "    </tr>\n",
       "    <tr>\n",
       "      <th>1</th>\n",
       "      <td>2014-02-27 08:28:07.900000000</td>\n",
       "      <td>Current</td>\n",
       "      <td>NaN</td>\n",
       "      <td>A</td>\n",
       "      <td>CO</td>\n",
       "      <td>Professional</td>\n",
       "      <td>Employed</td>\n",
       "      <td>03-03-2014 0.00</td>\n",
       "      <td>Q1 2014</td>\n",
       "    </tr>\n",
       "    <tr>\n",
       "      <th>2</th>\n",
       "      <td>2007-01-05 15:00:47.090000000</td>\n",
       "      <td>Completed</td>\n",
       "      <td>17-12-2009 0.00</td>\n",
       "      <td>NaN</td>\n",
       "      <td>GA</td>\n",
       "      <td>Other</td>\n",
       "      <td>Not available</td>\n",
       "      <td>17-01-2007 0.00</td>\n",
       "      <td>Q1 2007</td>\n",
       "    </tr>\n",
       "    <tr>\n",
       "      <th>3</th>\n",
       "      <td>2012-10-22 11:02:35.010000000</td>\n",
       "      <td>Current</td>\n",
       "      <td>NaN</td>\n",
       "      <td>A</td>\n",
       "      <td>GA</td>\n",
       "      <td>Skilled Labor</td>\n",
       "      <td>Employed</td>\n",
       "      <td>01-11-2012 0.00</td>\n",
       "      <td>Q4 2012</td>\n",
       "    </tr>\n",
       "    <tr>\n",
       "      <th>4</th>\n",
       "      <td>2013-09-14 18:38:39.097000000</td>\n",
       "      <td>Current</td>\n",
       "      <td>NaN</td>\n",
       "      <td>D</td>\n",
       "      <td>MN</td>\n",
       "      <td>Executive</td>\n",
       "      <td>Employed</td>\n",
       "      <td>20-09-2013 0.00</td>\n",
       "      <td>Q3 2013</td>\n",
       "    </tr>\n",
       "    <tr>\n",
       "      <th>...</th>\n",
       "      <td>...</td>\n",
       "      <td>...</td>\n",
       "      <td>...</td>\n",
       "      <td>...</td>\n",
       "      <td>...</td>\n",
       "      <td>...</td>\n",
       "      <td>...</td>\n",
       "      <td>...</td>\n",
       "      <td>...</td>\n",
       "    </tr>\n",
       "    <tr>\n",
       "      <th>1030</th>\n",
       "      <td>2012-02-05 13:26:09.013000000</td>\n",
       "      <td>Current</td>\n",
       "      <td>NaN</td>\n",
       "      <td>C</td>\n",
       "      <td>CA</td>\n",
       "      <td>Other</td>\n",
       "      <td>Employed</td>\n",
       "      <td>13-02-2012 0.00</td>\n",
       "      <td>Q1 2012</td>\n",
       "    </tr>\n",
       "    <tr>\n",
       "      <th>1031</th>\n",
       "      <td>2013-11-30 18:09:55.920000000</td>\n",
       "      <td>Current</td>\n",
       "      <td>NaN</td>\n",
       "      <td>C</td>\n",
       "      <td>NJ</td>\n",
       "      <td>Executive</td>\n",
       "      <td>Employed</td>\n",
       "      <td>11-12-2013 0.00</td>\n",
       "      <td>Q4 2013</td>\n",
       "    </tr>\n",
       "    <tr>\n",
       "      <th>1032</th>\n",
       "      <td>2008-09-27 05:42:35.203000000</td>\n",
       "      <td>Completed</td>\n",
       "      <td>06-10-2011 0.00</td>\n",
       "      <td>NaN</td>\n",
       "      <td>SC</td>\n",
       "      <td>Administrative Assistant</td>\n",
       "      <td>Full-time</td>\n",
       "      <td>06-10-2008 0.00</td>\n",
       "      <td>Q4 2008</td>\n",
       "    </tr>\n",
       "    <tr>\n",
       "      <th>1033</th>\n",
       "      <td>2011-08-22 21:04:01.433000000</td>\n",
       "      <td>Current</td>\n",
       "      <td>NaN</td>\n",
       "      <td>D</td>\n",
       "      <td>AK</td>\n",
       "      <td>Clerical</td>\n",
       "      <td>Full-time</td>\n",
       "      <td>30-08-2011 0.00</td>\n",
       "      <td>Q3 2011</td>\n",
       "    </tr>\n",
       "    <tr>\n",
       "      <th>1034</th>\n",
       "      <td>2006-12-11 13:41:20.050000000</td>\n",
       "      <td>Completed</td>\n",
       "      <td>27-12-2009 0.00</td>\n",
       "      <td>NaN</td>\n",
       "      <td>TX</td>\n",
       "      <td>Computer Programmer</td>\n",
       "      <td>Not available</td>\n",
       "      <td>27-12-2006 0.00</td>\n",
       "      <td>Q4 2006</td>\n",
       "    </tr>\n",
       "  </tbody>\n",
       "</table>\n",
       "<p>1035 rows × 9 columns</p>\n",
       "</div>"
      ],
      "text/plain": [
       "                ListingCreationDate LoanStatus       ClosedDate  \\\n",
       "0     2007-08-26 19:09:29.263000000  Completed  14-08-2009 0.00   \n",
       "1     2014-02-27 08:28:07.900000000    Current              NaN   \n",
       "2     2007-01-05 15:00:47.090000000  Completed  17-12-2009 0.00   \n",
       "3     2012-10-22 11:02:35.010000000    Current              NaN   \n",
       "4     2013-09-14 18:38:39.097000000    Current              NaN   \n",
       "...                             ...        ...              ...   \n",
       "1030  2012-02-05 13:26:09.013000000    Current              NaN   \n",
       "1031  2013-11-30 18:09:55.920000000    Current              NaN   \n",
       "1032  2008-09-27 05:42:35.203000000  Completed  06-10-2011 0.00   \n",
       "1033  2011-08-22 21:04:01.433000000    Current              NaN   \n",
       "1034  2006-12-11 13:41:20.050000000  Completed  27-12-2009 0.00   \n",
       "\n",
       "     ProsperRating (Alpha) BorrowerState                Occupation  \\\n",
       "0                      NaN            CO                     Other   \n",
       "1                        A            CO              Professional   \n",
       "2                      NaN            GA                     Other   \n",
       "3                        A            GA             Skilled Labor   \n",
       "4                        D            MN                 Executive   \n",
       "...                    ...           ...                       ...   \n",
       "1030                     C            CA                     Other   \n",
       "1031                     C            NJ                 Executive   \n",
       "1032                   NaN            SC  Administrative Assistant   \n",
       "1033                     D            AK                  Clerical   \n",
       "1034                   NaN            TX       Computer Programmer   \n",
       "\n",
       "     EmploymentStatus LoanOriginationDate LoanOriginationQuarter  \n",
       "0       Self-employed     12-09-2007 0.00                Q3 2007  \n",
       "1            Employed     03-03-2014 0.00                Q1 2014  \n",
       "2       Not available     17-01-2007 0.00                Q1 2007  \n",
       "3            Employed     01-11-2012 0.00                Q4 2012  \n",
       "4            Employed     20-09-2013 0.00                Q3 2013  \n",
       "...               ...                 ...                    ...  \n",
       "1030         Employed     13-02-2012 0.00                Q1 2012  \n",
       "1031         Employed     11-12-2013 0.00                Q4 2013  \n",
       "1032        Full-time     06-10-2008 0.00                Q4 2008  \n",
       "1033        Full-time     30-08-2011 0.00                Q3 2011  \n",
       "1034    Not available     27-12-2006 0.00                Q4 2006  \n",
       "\n",
       "[1035 rows x 9 columns]"
      ]
     },
     "execution_count": 7,
     "metadata": {},
     "output_type": "execute_result"
    }
   ],
   "source": [
    "categorical_data=df1.select_dtypes(include='object')\n",
    "\n",
    "categorical_data"
   ]
  },
  {
   "cell_type": "code",
   "execution_count": 8,
   "metadata": {},
   "outputs": [
    {
     "data": {
      "text/plain": [
       "Index(['ListingCreationDate', 'LoanStatus', 'ClosedDate',\n",
       "       'ProsperRating (Alpha)', 'BorrowerState', 'Occupation',\n",
       "       'EmploymentStatus', 'LoanOriginationDate', 'LoanOriginationQuarter'],\n",
       "      dtype='object')"
      ]
     },
     "execution_count": 8,
     "metadata": {},
     "output_type": "execute_result"
    }
   ],
   "source": [
    "categorical_data.columns"
   ]
  },
  {
   "cell_type": "markdown",
   "metadata": {},
   "source": [
    "C. If you find any of the missing values in the ProsperRating column, then drop it."
   ]
  },
  {
   "cell_type": "code",
   "execution_count": 9,
   "metadata": {},
   "outputs": [
    {
     "data": {
      "text/plain": [
       "Text(0.5, 1.0, 'BEFORE DROPPING THE NULL VALUES')"
      ]
     },
     "execution_count": 9,
     "metadata": {},
     "output_type": "execute_result"
    },
    {
     "data": {
      "image/png": "[encoded data removed]",
      "text/plain": [
       "<Figure size 864x576 with 2 Axes>"
      ]
     },
     "metadata": {
      "needs_background": "light"
     },
     "output_type": "display_data"
    }
   ],
   "source": [
    "plt.figure(figsize=(12,8))\n",
    "sns.heatmap(df1.isnull())\n",
    "plt.title('BEFORE DROPPING THE NULL VALUES',fontsize=20)"
   ]
  },
  {
   "cell_type": "code",
   "execution_count": 10,
   "metadata": {},
   "outputs": [
    {
     "data": {
      "text/plain": [
       "True"
      ]
     },
     "execution_count": 10,
     "metadata": {},
     "output_type": "execute_result"
    }
   ],
   "source": [
    "df1['ProsperRating (Alpha)'].isnull().any()\n"
   ]
  },
  {
   "cell_type": "code",
   "execution_count": 11,
   "metadata": {},
   "outputs": [
    {
     "data": {
      "text/plain": [
       "252"
      ]
     },
     "execution_count": 11,
     "metadata": {},
     "output_type": "execute_result"
    }
   ],
   "source": [
    "df1['ProsperRating (Alpha)'].isnull().sum()"
   ]
  },
  {
   "cell_type": "code",
   "execution_count": 12,
   "metadata": {},
   "outputs": [
    {
     "data": {
      "text/plain": [
       "C     171\n",
       "B     143\n",
       "A     132\n",
       "D     128\n",
       "E      87\n",
       "HR     69\n",
       "AA     53\n",
       "Name: ProsperRating (Alpha), dtype: int64"
      ]
     },
     "execution_count": 12,
     "metadata": {},
     "output_type": "execute_result"
    }
   ],
   "source": [
    "df1['ProsperRating (Alpha)'].value_counts()"
   ]
  },
  {
   "cell_type": "code",
   "execution_count": 13,
   "metadata": {},
   "outputs": [
    {
     "data": {
      "text/html": [
       "<div>\n",
       "<style scoped>\n",
       "    .dataframe tbody tr th:only-of-type {\n",
       "        vertical-align: middle;\n",
       "    }\n",
       "\n",
       "    .dataframe tbody tr th {\n",
       "        vertical-align: top;\n",
       "    }\n",
       "\n",
       "    .dataframe thead th {\n",
       "        text-align: right;\n",
       "    }\n",
       "</style>\n",
       "<table border=\"1\" class=\"dataframe\">\n",
       "  <thead>\n",
       "    <tr style=\"text-align: right;\">\n",
       "      <th></th>\n",
       "      <th>ListingCreationDate</th>\n",
       "      <th>Term</th>\n",
       "      <th>LoanStatus</th>\n",
       "      <th>ClosedDate</th>\n",
       "      <th>BorrowerAPR</th>\n",
       "      <th>BorrowerRate</th>\n",
       "      <th>LenderYield</th>\n",
       "      <th>ProsperRating (Alpha)</th>\n",
       "      <th>ProsperScore</th>\n",
       "      <th>ListingCategory (numeric)</th>\n",
       "      <th>...</th>\n",
       "      <th>EmploymentStatus</th>\n",
       "      <th>AmountDelinquent</th>\n",
       "      <th>StatedMonthlyIncome</th>\n",
       "      <th>LoanCurrentDaysDelinquent</th>\n",
       "      <th>LoanOriginalAmount</th>\n",
       "      <th>LoanOriginationDate</th>\n",
       "      <th>LoanOriginationQuarter</th>\n",
       "      <th>MonthlyLoanPayment</th>\n",
       "      <th>LP_InterestandFees</th>\n",
       "      <th>Investors</th>\n",
       "    </tr>\n",
       "  </thead>\n",
       "  <tbody>\n",
       "    <tr>\n",
       "      <th>1</th>\n",
       "      <td>2014-02-27 08:28:07.900000000</td>\n",
       "      <td>36</td>\n",
       "      <td>Current</td>\n",
       "      <td>NaN</td>\n",
       "      <td>0.12016</td>\n",
       "      <td>0.0920</td>\n",
       "      <td>0.0820</td>\n",
       "      <td>A</td>\n",
       "      <td>7.0</td>\n",
       "      <td>2</td>\n",
       "      <td>...</td>\n",
       "      <td>Employed</td>\n",
       "      <td>0.0</td>\n",
       "      <td>6125.000000</td>\n",
       "      <td>0</td>\n",
       "      <td>10000</td>\n",
       "      <td>03-03-2014 0.00</td>\n",
       "      <td>Q1 2014</td>\n",
       "      <td>318.93</td>\n",
       "      <td>0.00</td>\n",
       "      <td>1</td>\n",
       "    </tr>\n",
       "    <tr>\n",
       "      <th>3</th>\n",
       "      <td>2012-10-22 11:02:35.010000000</td>\n",
       "      <td>36</td>\n",
       "      <td>Current</td>\n",
       "      <td>NaN</td>\n",
       "      <td>0.12528</td>\n",
       "      <td>0.0974</td>\n",
       "      <td>0.0874</td>\n",
       "      <td>A</td>\n",
       "      <td>9.0</td>\n",
       "      <td>16</td>\n",
       "      <td>...</td>\n",
       "      <td>Employed</td>\n",
       "      <td>10056.0</td>\n",
       "      <td>2875.000000</td>\n",
       "      <td>0</td>\n",
       "      <td>10000</td>\n",
       "      <td>01-11-2012 0.00</td>\n",
       "      <td>Q4 2012</td>\n",
       "      <td>321.45</td>\n",
       "      <td>1052.11</td>\n",
       "      <td>158</td>\n",
       "    </tr>\n",
       "    <tr>\n",
       "      <th>4</th>\n",
       "      <td>2013-09-14 18:38:39.097000000</td>\n",
       "      <td>36</td>\n",
       "      <td>Current</td>\n",
       "      <td>NaN</td>\n",
       "      <td>0.24614</td>\n",
       "      <td>0.2085</td>\n",
       "      <td>0.1985</td>\n",
       "      <td>D</td>\n",
       "      <td>4.0</td>\n",
       "      <td>2</td>\n",
       "      <td>...</td>\n",
       "      <td>Employed</td>\n",
       "      <td>0.0</td>\n",
       "      <td>9583.333333</td>\n",
       "      <td>0</td>\n",
       "      <td>15000</td>\n",
       "      <td>20-09-2013 0.00</td>\n",
       "      <td>Q3 2013</td>\n",
       "      <td>563.97</td>\n",
       "      <td>1256.63</td>\n",
       "      <td>20</td>\n",
       "    </tr>\n",
       "    <tr>\n",
       "      <th>5</th>\n",
       "      <td>2013-12-14 08:26:37.093000000</td>\n",
       "      <td>60</td>\n",
       "      <td>Current</td>\n",
       "      <td>NaN</td>\n",
       "      <td>0.15425</td>\n",
       "      <td>0.1314</td>\n",
       "      <td>0.1214</td>\n",
       "      <td>B</td>\n",
       "      <td>10.0</td>\n",
       "      <td>1</td>\n",
       "      <td>...</td>\n",
       "      <td>Employed</td>\n",
       "      <td>0.0</td>\n",
       "      <td>8333.333333</td>\n",
       "      <td>0</td>\n",
       "      <td>15000</td>\n",
       "      <td>24-12-2013 0.00</td>\n",
       "      <td>Q4 2013</td>\n",
       "      <td>342.37</td>\n",
       "      <td>327.45</td>\n",
       "      <td>1</td>\n",
       "    </tr>\n",
       "    <tr>\n",
       "      <th>6</th>\n",
       "      <td>2013-04-12 09:52:56.147000000</td>\n",
       "      <td>36</td>\n",
       "      <td>Current</td>\n",
       "      <td>NaN</td>\n",
       "      <td>0.31032</td>\n",
       "      <td>0.2712</td>\n",
       "      <td>0.2612</td>\n",
       "      <td>E</td>\n",
       "      <td>2.0</td>\n",
       "      <td>1</td>\n",
       "      <td>...</td>\n",
       "      <td>Employed</td>\n",
       "      <td>0.0</td>\n",
       "      <td>2083.333333</td>\n",
       "      <td>0</td>\n",
       "      <td>3000</td>\n",
       "      <td>18-04-2013 0.00</td>\n",
       "      <td>Q2 2013</td>\n",
       "      <td>122.67</td>\n",
       "      <td>622.45</td>\n",
       "      <td>1</td>\n",
       "    </tr>\n",
       "    <tr>\n",
       "      <th>...</th>\n",
       "      <td>...</td>\n",
       "      <td>...</td>\n",
       "      <td>...</td>\n",
       "      <td>...</td>\n",
       "      <td>...</td>\n",
       "      <td>...</td>\n",
       "      <td>...</td>\n",
       "      <td>...</td>\n",
       "      <td>...</td>\n",
       "      <td>...</td>\n",
       "      <td>...</td>\n",
       "      <td>...</td>\n",
       "      <td>...</td>\n",
       "      <td>...</td>\n",
       "      <td>...</td>\n",
       "      <td>...</td>\n",
       "      <td>...</td>\n",
       "      <td>...</td>\n",
       "      <td>...</td>\n",
       "      <td>...</td>\n",
       "      <td>...</td>\n",
       "    </tr>\n",
       "    <tr>\n",
       "      <th>1028</th>\n",
       "      <td>2010-03-12 12:13:42.697000000</td>\n",
       "      <td>36</td>\n",
       "      <td>Completed</td>\n",
       "      <td>23-03-2013 0.00</td>\n",
       "      <td>0.26282</td>\n",
       "      <td>0.2399</td>\n",
       "      <td>0.2299</td>\n",
       "      <td>D</td>\n",
       "      <td>7.0</td>\n",
       "      <td>1</td>\n",
       "      <td>...</td>\n",
       "      <td>Full-time</td>\n",
       "      <td>0.0</td>\n",
       "      <td>2840.083333</td>\n",
       "      <td>0</td>\n",
       "      <td>3500</td>\n",
       "      <td>23-03-2010 0.00</td>\n",
       "      <td>Q1 2010</td>\n",
       "      <td>131.50</td>\n",
       "      <td>1448.61</td>\n",
       "      <td>209</td>\n",
       "    </tr>\n",
       "    <tr>\n",
       "      <th>1029</th>\n",
       "      <td>2013-08-22 13:08:33.250000000</td>\n",
       "      <td>36</td>\n",
       "      <td>Current</td>\n",
       "      <td>NaN</td>\n",
       "      <td>0.18725</td>\n",
       "      <td>0.1509</td>\n",
       "      <td>0.1409</td>\n",
       "      <td>B</td>\n",
       "      <td>7.0</td>\n",
       "      <td>1</td>\n",
       "      <td>...</td>\n",
       "      <td>Employed</td>\n",
       "      <td>0.0</td>\n",
       "      <td>12916.666670</td>\n",
       "      <td>0</td>\n",
       "      <td>30000</td>\n",
       "      <td>26-08-2013 0.00</td>\n",
       "      <td>Q3 2013</td>\n",
       "      <td>1041.28</td>\n",
       "      <td>2153.83</td>\n",
       "      <td>202</td>\n",
       "    </tr>\n",
       "    <tr>\n",
       "      <th>1030</th>\n",
       "      <td>2012-02-05 13:26:09.013000000</td>\n",
       "      <td>36</td>\n",
       "      <td>Current</td>\n",
       "      <td>NaN</td>\n",
       "      <td>0.24246</td>\n",
       "      <td>0.2049</td>\n",
       "      <td>0.1949</td>\n",
       "      <td>C</td>\n",
       "      <td>7.0</td>\n",
       "      <td>1</td>\n",
       "      <td>...</td>\n",
       "      <td>Employed</td>\n",
       "      <td>0.0</td>\n",
       "      <td>4750.000000</td>\n",
       "      <td>0</td>\n",
       "      <td>15000</td>\n",
       "      <td>13-02-2012 0.00</td>\n",
       "      <td>Q1 2012</td>\n",
       "      <td>561.21</td>\n",
       "      <td>4510.85</td>\n",
       "      <td>291</td>\n",
       "    </tr>\n",
       "    <tr>\n",
       "      <th>1031</th>\n",
       "      <td>2013-11-30 18:09:55.920000000</td>\n",
       "      <td>60</td>\n",
       "      <td>Current</td>\n",
       "      <td>NaN</td>\n",
       "      <td>0.21832</td>\n",
       "      <td>0.1940</td>\n",
       "      <td>0.1840</td>\n",
       "      <td>C</td>\n",
       "      <td>4.0</td>\n",
       "      <td>1</td>\n",
       "      <td>...</td>\n",
       "      <td>Employed</td>\n",
       "      <td>0.0</td>\n",
       "      <td>5500.000000</td>\n",
       "      <td>0</td>\n",
       "      <td>5000</td>\n",
       "      <td>11-12-2013 0.00</td>\n",
       "      <td>Q4 2013</td>\n",
       "      <td>130.81</td>\n",
       "      <td>163.97</td>\n",
       "      <td>1</td>\n",
       "    </tr>\n",
       "    <tr>\n",
       "      <th>1033</th>\n",
       "      <td>2011-08-22 21:04:01.433000000</td>\n",
       "      <td>60</td>\n",
       "      <td>Current</td>\n",
       "      <td>NaN</td>\n",
       "      <td>0.29371</td>\n",
       "      <td>0.2699</td>\n",
       "      <td>0.2599</td>\n",
       "      <td>D</td>\n",
       "      <td>5.0</td>\n",
       "      <td>2</td>\n",
       "      <td>...</td>\n",
       "      <td>Full-time</td>\n",
       "      <td>0.0</td>\n",
       "      <td>2681.000000</td>\n",
       "      <td>0</td>\n",
       "      <td>10000</td>\n",
       "      <td>30-08-2011 0.00</td>\n",
       "      <td>Q3 2011</td>\n",
       "      <td>305.29</td>\n",
       "      <td>5777.86</td>\n",
       "      <td>148</td>\n",
       "    </tr>\n",
       "  </tbody>\n",
       "</table>\n",
       "<p>783 rows × 22 columns</p>\n",
       "</div>"
      ],
      "text/plain": [
       "                ListingCreationDate  Term LoanStatus       ClosedDate  \\\n",
       "1     2014-02-27 08:28:07.900000000    36    Current              NaN   \n",
       "3     2012-10-22 11:02:35.010000000    36    Current              NaN   \n",
       "4     2013-09-14 18:38:39.097000000    36    Current              NaN   \n",
       "5     2013-12-14 08:26:37.093000000    60    Current              NaN   \n",
       "6     2013-04-12 09:52:56.147000000    36    Current              NaN   \n",
       "...                             ...   ...        ...              ...   \n",
       "1028  2010-03-12 12:13:42.697000000    36  Completed  23-03-2013 0.00   \n",
       "1029  2013-08-22 13:08:33.250000000    36    Current              NaN   \n",
       "1030  2012-02-05 13:26:09.013000000    36    Current              NaN   \n",
       "1031  2013-11-30 18:09:55.920000000    60    Current              NaN   \n",
       "1033  2011-08-22 21:04:01.433000000    60    Current              NaN   \n",
       "\n",
       "      BorrowerAPR  BorrowerRate  LenderYield ProsperRating (Alpha)  \\\n",
       "1         0.12016        0.0920       0.0820                     A   \n",
       "3         0.12528        0.0974       0.0874                     A   \n",
       "4         0.24614        0.2085       0.1985                     D   \n",
       "5         0.15425        0.1314       0.1214                     B   \n",
       "6         0.31032        0.2712       0.2612                     E   \n",
       "...           ...           ...          ...                   ...   \n",
       "1028      0.26282        0.2399       0.2299                     D   \n",
       "1029      0.18725        0.1509       0.1409                     B   \n",
       "1030      0.24246        0.2049       0.1949                     C   \n",
       "1031      0.21832        0.1940       0.1840                     C   \n",
       "1033      0.29371        0.2699       0.2599                     D   \n",
       "\n",
       "      ProsperScore  ListingCategory (numeric)  ... EmploymentStatus  \\\n",
       "1              7.0                          2  ...         Employed   \n",
       "3              9.0                         16  ...         Employed   \n",
       "4              4.0                          2  ...         Employed   \n",
       "5             10.0                          1  ...         Employed   \n",
       "6              2.0                          1  ...         Employed   \n",
       "...            ...                        ...  ...              ...   \n",
       "1028           7.0                          1  ...        Full-time   \n",
       "1029           7.0                          1  ...         Employed   \n",
       "1030           7.0                          1  ...         Employed   \n",
       "1031           4.0                          1  ...         Employed   \n",
       "1033           5.0                          2  ...        Full-time   \n",
       "\n",
       "     AmountDelinquent StatedMonthlyIncome  LoanCurrentDaysDelinquent  \\\n",
       "1                 0.0         6125.000000                          0   \n",
       "3             10056.0         2875.000000                          0   \n",
       "4                 0.0         9583.333333                          0   \n",
       "5                 0.0         8333.333333                          0   \n",
       "6                 0.0         2083.333333                          0   \n",
       "...               ...                 ...                        ...   \n",
       "1028              0.0         2840.083333                          0   \n",
       "1029              0.0        12916.666670                          0   \n",
       "1030              0.0         4750.000000                          0   \n",
       "1031              0.0         5500.000000                          0   \n",
       "1033              0.0         2681.000000                          0   \n",
       "\n",
       "      LoanOriginalAmount  LoanOriginationDate  LoanOriginationQuarter  \\\n",
       "1                  10000      03-03-2014 0.00                 Q1 2014   \n",
       "3                  10000      01-11-2012 0.00                 Q4 2012   \n",
       "4                  15000      20-09-2013 0.00                 Q3 2013   \n",
       "5                  15000      24-12-2013 0.00                 Q4 2013   \n",
       "6                   3000      18-04-2013 0.00                 Q2 2013   \n",
       "...                  ...                  ...                     ...   \n",
       "1028                3500      23-03-2010 0.00                 Q1 2010   \n",
       "1029               30000      26-08-2013 0.00                 Q3 2013   \n",
       "1030               15000      13-02-2012 0.00                 Q1 2012   \n",
       "1031                5000      11-12-2013 0.00                 Q4 2013   \n",
       "1033               10000      30-08-2011 0.00                 Q3 2011   \n",
       "\n",
       "     MonthlyLoanPayment LP_InterestandFees  Investors  \n",
       "1                318.93               0.00          1  \n",
       "3                321.45            1052.11        158  \n",
       "4                563.97            1256.63         20  \n",
       "5                342.37             327.45          1  \n",
       "6                122.67             622.45          1  \n",
       "...                 ...                ...        ...  \n",
       "1028             131.50            1448.61        209  \n",
       "1029            1041.28            2153.83        202  \n",
       "1030             561.21            4510.85        291  \n",
       "1031             130.81             163.97          1  \n",
       "1033             305.29            5777.86        148  \n",
       "\n",
       "[783 rows x 22 columns]"
      ]
     },
     "metadata": {},
     "output_type": "display_data"
    }
   ],
   "source": [
    "new=df1.dropna(inplace=True,subset=['ProsperRating (Alpha)'])\n",
    "#WE  DROP THE MISSING VALUES  IN THE PROSPER RATING COLUMN\n",
    "\n",
    "display(df1)"
   ]
  },
  {
   "cell_type": "code",
   "execution_count": 14,
   "metadata": {},
   "outputs": [
    {
     "data": {
      "text/plain": [
       "NoneType"
      ]
     },
     "execution_count": 14,
     "metadata": {},
     "output_type": "execute_result"
    }
   ],
   "source": [
    "type(new)"
   ]
  },
  {
   "cell_type": "code",
   "execution_count": 15,
   "metadata": {},
   "outputs": [
    {
     "data": {
      "text/plain": [
       "Text(0.5, 1.0, 'AFTER DROPPING THE NULL VALUES')"
      ]
     },
     "execution_count": 15,
     "metadata": {},
     "output_type": "execute_result"
    },
    {
     "data": {
      "image/png": "[encoded data removed]",
      "text/plain": [
       "<Figure size 864x576 with 2 Axes>"
      ]
     },
     "metadata": {
      "needs_background": "light"
     },
     "output_type": "display_data"
    }
   ],
   "source": [
    "plt.figure(figsize=(12,8))\n",
    "sns.heatmap(df1.isnull())\n",
    "\n",
    "plt.title('AFTER DROPPING THE NULL VALUES',fontsize=20)"
   ]
  },
  {
   "cell_type": "code",
   "execution_count": 16,
   "metadata": {},
   "outputs": [
    {
     "data": {
      "text/plain": [
       "False"
      ]
     },
     "execution_count": 16,
     "metadata": {},
     "output_type": "execute_result"
    }
   ],
   "source": [
    "df1['ProsperRating (Alpha)'].isnull().any()"
   ]
  },
  {
   "cell_type": "code",
   "execution_count": 17,
   "metadata": {},
   "outputs": [
    {
     "data": {
      "text/plain": [
       "0"
      ]
     },
     "execution_count": 17,
     "metadata": {},
     "output_type": "execute_result"
    }
   ],
   "source": [
    "df1['ProsperRating (Alpha)'].isnull().sum()"
   ]
  },
  {
   "cell_type": "markdown",
   "metadata": {},
   "source": [
    "<h4 class=\"list-group-item list-group-item-action active\" >3. UNIVARIATE ANALYSIS</h4>\n",
    "\n",
    ">#### A. What are the main features of interest in your dataset?\n",
    "\n",
    "    Step1: Apply Univariate analysis using suitable charts for[ Loan status, Employment Status, Stated Monthly Income]\n",
    "\n",
    "    Step2: Check if any column distribution skew or not.\n",
    "\n",
    "    Step3: Write at least 2 observations for each visualization.\n",
    "\n",
    "\n"
   ]
  },
  {
   "cell_type": "markdown",
   "metadata": {},
   "source": [
    "Step1: Apply Univariate analysis using suitable charts for[ Loan status, Employment Status, Stated Monthly Income]"
   ]
  },
  {
   "cell_type": "code",
   "execution_count": 18,
   "metadata": {},
   "outputs": [
    {
     "data": {
      "text/plain": [
       "(array([0, 1, 2, 3, 4, 5, 6, 7]), <a list of 8 Text major ticklabel objects>)"
      ]
     },
     "execution_count": 18,
     "metadata": {},
     "output_type": "execute_result"
    },
    {
     "data": {
      "image/png": "[encoded data removed]",
      "text/plain": [
       "<Figure size 864x576 with 1 Axes>"
      ]
     },
     "metadata": {
      "needs_background": "light"
     },
     "output_type": "display_data"
    }
   ],
   "source": [
    "plt.figure(figsize=(12,8))\n",
    "sns.countplot(df1['LoanStatus'])\n",
    "plt.xticks(rotation=90)"
   ]
  },
  {
   "cell_type": "markdown",
   "metadata": {},
   "source": [
    "Observations\n",
    "\n",
    "1)Current Status  is highest  among the Loan Status\n",
    "\n",
    "2)Past Due(1-15 days),Past Due(16-30 days),Past Due(31-60 days),Past Due(61-90 days),Defaulted have lower Loan Status"
   ]
  },
  {
   "cell_type": "code",
   "execution_count": 19,
   "metadata": {},
   "outputs": [
    {
     "data": {
      "text/plain": [
       "(array([0, 1, 2, 3, 4, 5, 6]), <a list of 7 Text major ticklabel objects>)"
      ]
     },
     "execution_count": 19,
     "metadata": {},
     "output_type": "execute_result"
    },
    {
     "data": {
      "image/png": "[encoded data removed]",
      "text/plain": [
       "<Figure size 864x576 with 1 Axes>"
      ]
     },
     "metadata": {
      "needs_background": "light"
     },
     "output_type": "display_data"
    }
   ],
   "source": [
    "plt.figure(figsize=(12,8))\n",
    "sns.countplot(df1['EmploymentStatus'])\n",
    "plt.xticks(rotation=90)"
   ]
  },
  {
   "cell_type": "markdown",
   "metadata": {},
   "source": [
    "Observations\n",
    "\n",
    "1)Employed is highest among the Employment Status\n",
    "\n",
    "2)Part time,Retired  are lowest  among the Employment Status"
   ]
  },
  {
   "cell_type": "code",
   "execution_count": 20,
   "metadata": {},
   "outputs": [
    {
     "data": {
      "text/plain": [
       "Index(['ListingCreationDate', 'Term', 'LoanStatus', 'ClosedDate',\n",
       "       'BorrowerAPR', 'BorrowerRate', 'LenderYield', 'ProsperRating (Alpha)',\n",
       "       'ProsperScore', 'ListingCategory (numeric)', 'BorrowerState',\n",
       "       'Occupation', 'EmploymentStatus', 'AmountDelinquent',\n",
       "       'StatedMonthlyIncome', 'LoanCurrentDaysDelinquent',\n",
       "       'LoanOriginalAmount', 'LoanOriginationDate', 'LoanOriginationQuarter',\n",
       "       'MonthlyLoanPayment', 'LP_InterestandFees', 'Investors'],\n",
       "      dtype='object')"
      ]
     },
     "execution_count": 20,
     "metadata": {},
     "output_type": "execute_result"
    }
   ],
   "source": [
    "df1.columns"
   ]
  },
  {
   "cell_type": "code",
   "execution_count": 21,
   "metadata": {},
   "outputs": [
    {
     "data": {
      "text/plain": [
       "Text(0.5, 0, 'StatedMonthlyIncome')"
      ]
     },
     "execution_count": 21,
     "metadata": {},
     "output_type": "execute_result"
    },
    {
     "data": {
      "image/png": "[encoded data removed]",
      "text/plain": [
       "<Figure size 864x576 with 1 Axes>"
      ]
     },
     "metadata": {
      "needs_background": "light"
     },
     "output_type": "display_data"
    }
   ],
   "source": [
    "plt.figure(figsize=(12,8))\n",
    "sns.distplot(df1['StatedMonthlyIncome'])\n",
    "plt.xlabel('StatedMonthlyIncome',fontsize=20)\n"
   ]
  },
  {
   "cell_type": "code",
   "execution_count": 22,
   "metadata": {},
   "outputs": [
    {
     "data": {
      "text/plain": [
       "Text(0.5, 0, 'StatedMonthlyIncome')"
      ]
     },
     "execution_count": 22,
     "metadata": {},
     "output_type": "execute_result"
    },
    {
     "data": {
      "image/png": "[encoded data removed]",
      "text/plain": [
       "<Figure size 864x576 with 1 Axes>"
      ]
     },
     "metadata": {
      "needs_background": "light"
     },
     "output_type": "display_data"
    }
   ],
   "source": [
    "plt.figure(figsize=(12,8))\n",
    "sns.boxplot(df1['StatedMonthlyIncome'])\n",
    "plt.xlabel('StatedMonthlyIncome',fontsize=20)"
   ]
  },
  {
   "cell_type": "markdown",
   "metadata": {},
   "source": [
    "Observations\n",
    "\n",
    "1)There are more outliers present beyond 15000 in  the Stated Monthly Income\n",
    "\n",
    "2)Median  value  in   the Stated Monthly Income is around 5000 "
   ]
  },
  {
   "cell_type": "markdown",
   "metadata": {},
   "source": [
    "Step2: Check if any column distribution skew or not."
   ]
  },
  {
   "cell_type": "code",
   "execution_count": 23,
   "metadata": {},
   "outputs": [
    {
     "data": {
      "text/html": [
       "<div>\n",
       "<style scoped>\n",
       "    .dataframe tbody tr th:only-of-type {\n",
       "        vertical-align: middle;\n",
       "    }\n",
       "\n",
       "    .dataframe tbody tr th {\n",
       "        vertical-align: top;\n",
       "    }\n",
       "\n",
       "    .dataframe thead th {\n",
       "        text-align: right;\n",
       "    }\n",
       "</style>\n",
       "<table border=\"1\" class=\"dataframe\">\n",
       "  <thead>\n",
       "    <tr style=\"text-align: right;\">\n",
       "      <th></th>\n",
       "      <th>Term</th>\n",
       "      <th>BorrowerAPR</th>\n",
       "      <th>BorrowerRate</th>\n",
       "      <th>LenderYield</th>\n",
       "      <th>ProsperScore</th>\n",
       "      <th>ListingCategory (numeric)</th>\n",
       "      <th>AmountDelinquent</th>\n",
       "      <th>StatedMonthlyIncome</th>\n",
       "      <th>LoanCurrentDaysDelinquent</th>\n",
       "      <th>LoanOriginalAmount</th>\n",
       "      <th>MonthlyLoanPayment</th>\n",
       "      <th>LP_InterestandFees</th>\n",
       "      <th>Investors</th>\n",
       "    </tr>\n",
       "  </thead>\n",
       "  <tbody>\n",
       "    <tr>\n",
       "      <th>1</th>\n",
       "      <td>36</td>\n",
       "      <td>0.12016</td>\n",
       "      <td>0.0920</td>\n",
       "      <td>0.0820</td>\n",
       "      <td>7.0</td>\n",
       "      <td>2</td>\n",
       "      <td>0.0</td>\n",
       "      <td>6125.000000</td>\n",
       "      <td>0</td>\n",
       "      <td>10000</td>\n",
       "      <td>318.93</td>\n",
       "      <td>0.00</td>\n",
       "      <td>1</td>\n",
       "    </tr>\n",
       "    <tr>\n",
       "      <th>3</th>\n",
       "      <td>36</td>\n",
       "      <td>0.12528</td>\n",
       "      <td>0.0974</td>\n",
       "      <td>0.0874</td>\n",
       "      <td>9.0</td>\n",
       "      <td>16</td>\n",
       "      <td>10056.0</td>\n",
       "      <td>2875.000000</td>\n",
       "      <td>0</td>\n",
       "      <td>10000</td>\n",
       "      <td>321.45</td>\n",
       "      <td>1052.11</td>\n",
       "      <td>158</td>\n",
       "    </tr>\n",
       "    <tr>\n",
       "      <th>4</th>\n",
       "      <td>36</td>\n",
       "      <td>0.24614</td>\n",
       "      <td>0.2085</td>\n",
       "      <td>0.1985</td>\n",
       "      <td>4.0</td>\n",
       "      <td>2</td>\n",
       "      <td>0.0</td>\n",
       "      <td>9583.333333</td>\n",
       "      <td>0</td>\n",
       "      <td>15000</td>\n",
       "      <td>563.97</td>\n",
       "      <td>1256.63</td>\n",
       "      <td>20</td>\n",
       "    </tr>\n",
       "    <tr>\n",
       "      <th>5</th>\n",
       "      <td>60</td>\n",
       "      <td>0.15425</td>\n",
       "      <td>0.1314</td>\n",
       "      <td>0.1214</td>\n",
       "      <td>10.0</td>\n",
       "      <td>1</td>\n",
       "      <td>0.0</td>\n",
       "      <td>8333.333333</td>\n",
       "      <td>0</td>\n",
       "      <td>15000</td>\n",
       "      <td>342.37</td>\n",
       "      <td>327.45</td>\n",
       "      <td>1</td>\n",
       "    </tr>\n",
       "    <tr>\n",
       "      <th>6</th>\n",
       "      <td>36</td>\n",
       "      <td>0.31032</td>\n",
       "      <td>0.2712</td>\n",
       "      <td>0.2612</td>\n",
       "      <td>2.0</td>\n",
       "      <td>1</td>\n",
       "      <td>0.0</td>\n",
       "      <td>2083.333333</td>\n",
       "      <td>0</td>\n",
       "      <td>3000</td>\n",
       "      <td>122.67</td>\n",
       "      <td>622.45</td>\n",
       "      <td>1</td>\n",
       "    </tr>\n",
       "    <tr>\n",
       "      <th>...</th>\n",
       "      <td>...</td>\n",
       "      <td>...</td>\n",
       "      <td>...</td>\n",
       "      <td>...</td>\n",
       "      <td>...</td>\n",
       "      <td>...</td>\n",
       "      <td>...</td>\n",
       "      <td>...</td>\n",
       "      <td>...</td>\n",
       "      <td>...</td>\n",
       "      <td>...</td>\n",
       "      <td>...</td>\n",
       "      <td>...</td>\n",
       "    </tr>\n",
       "    <tr>\n",
       "      <th>1028</th>\n",
       "      <td>36</td>\n",
       "      <td>0.26282</td>\n",
       "      <td>0.2399</td>\n",
       "      <td>0.2299</td>\n",
       "      <td>7.0</td>\n",
       "      <td>1</td>\n",
       "      <td>0.0</td>\n",
       "      <td>2840.083333</td>\n",
       "      <td>0</td>\n",
       "      <td>3500</td>\n",
       "      <td>131.50</td>\n",
       "      <td>1448.61</td>\n",
       "      <td>209</td>\n",
       "    </tr>\n",
       "    <tr>\n",
       "      <th>1029</th>\n",
       "      <td>36</td>\n",
       "      <td>0.18725</td>\n",
       "      <td>0.1509</td>\n",
       "      <td>0.1409</td>\n",
       "      <td>7.0</td>\n",
       "      <td>1</td>\n",
       "      <td>0.0</td>\n",
       "      <td>12916.666670</td>\n",
       "      <td>0</td>\n",
       "      <td>30000</td>\n",
       "      <td>1041.28</td>\n",
       "      <td>2153.83</td>\n",
       "      <td>202</td>\n",
       "    </tr>\n",
       "    <tr>\n",
       "      <th>1030</th>\n",
       "      <td>36</td>\n",
       "      <td>0.24246</td>\n",
       "      <td>0.2049</td>\n",
       "      <td>0.1949</td>\n",
       "      <td>7.0</td>\n",
       "      <td>1</td>\n",
       "      <td>0.0</td>\n",
       "      <td>4750.000000</td>\n",
       "      <td>0</td>\n",
       "      <td>15000</td>\n",
       "      <td>561.21</td>\n",
       "      <td>4510.85</td>\n",
       "      <td>291</td>\n",
       "    </tr>\n",
       "    <tr>\n",
       "      <th>1031</th>\n",
       "      <td>60</td>\n",
       "      <td>0.21832</td>\n",
       "      <td>0.1940</td>\n",
       "      <td>0.1840</td>\n",
       "      <td>4.0</td>\n",
       "      <td>1</td>\n",
       "      <td>0.0</td>\n",
       "      <td>5500.000000</td>\n",
       "      <td>0</td>\n",
       "      <td>5000</td>\n",
       "      <td>130.81</td>\n",
       "      <td>163.97</td>\n",
       "      <td>1</td>\n",
       "    </tr>\n",
       "    <tr>\n",
       "      <th>1033</th>\n",
       "      <td>60</td>\n",
       "      <td>0.29371</td>\n",
       "      <td>0.2699</td>\n",
       "      <td>0.2599</td>\n",
       "      <td>5.0</td>\n",
       "      <td>2</td>\n",
       "      <td>0.0</td>\n",
       "      <td>2681.000000</td>\n",
       "      <td>0</td>\n",
       "      <td>10000</td>\n",
       "      <td>305.29</td>\n",
       "      <td>5777.86</td>\n",
       "      <td>148</td>\n",
       "    </tr>\n",
       "  </tbody>\n",
       "</table>\n",
       "<p>783 rows × 13 columns</p>\n",
       "</div>"
      ],
      "text/plain": [
       "      Term  BorrowerAPR  BorrowerRate  LenderYield  ProsperScore  \\\n",
       "1       36      0.12016        0.0920       0.0820           7.0   \n",
       "3       36      0.12528        0.0974       0.0874           9.0   \n",
       "4       36      0.24614        0.2085       0.1985           4.0   \n",
       "5       60      0.15425        0.1314       0.1214          10.0   \n",
       "6       36      0.31032        0.2712       0.2612           2.0   \n",
       "...    ...          ...           ...          ...           ...   \n",
       "1028    36      0.26282        0.2399       0.2299           7.0   \n",
       "1029    36      0.18725        0.1509       0.1409           7.0   \n",
       "1030    36      0.24246        0.2049       0.1949           7.0   \n",
       "1031    60      0.21832        0.1940       0.1840           4.0   \n",
       "1033    60      0.29371        0.2699       0.2599           5.0   \n",
       "\n",
       "      ListingCategory (numeric)  AmountDelinquent  StatedMonthlyIncome  \\\n",
       "1                             2               0.0          6125.000000   \n",
       "3                            16           10056.0          2875.000000   \n",
       "4                             2               0.0          9583.333333   \n",
       "5                             1               0.0          8333.333333   \n",
       "6                             1               0.0          2083.333333   \n",
       "...                         ...               ...                  ...   \n",
       "1028                          1               0.0          2840.083333   \n",
       "1029                          1               0.0         12916.666670   \n",
       "1030                          1               0.0          4750.000000   \n",
       "1031                          1               0.0          5500.000000   \n",
       "1033                          2               0.0          2681.000000   \n",
       "\n",
       "      LoanCurrentDaysDelinquent  LoanOriginalAmount  MonthlyLoanPayment  \\\n",
       "1                             0               10000              318.93   \n",
       "3                             0               10000              321.45   \n",
       "4                             0               15000              563.97   \n",
       "5                             0               15000              342.37   \n",
       "6                             0                3000              122.67   \n",
       "...                         ...                 ...                 ...   \n",
       "1028                          0                3500              131.50   \n",
       "1029                          0               30000             1041.28   \n",
       "1030                          0               15000              561.21   \n",
       "1031                          0                5000              130.81   \n",
       "1033                          0               10000              305.29   \n",
       "\n",
       "      LP_InterestandFees  Investors  \n",
       "1                   0.00          1  \n",
       "3                1052.11        158  \n",
       "4                1256.63         20  \n",
       "5                 327.45          1  \n",
       "6                 622.45          1  \n",
       "...                  ...        ...  \n",
       "1028             1448.61        209  \n",
       "1029             2153.83        202  \n",
       "1030             4510.85        291  \n",
       "1031              163.97          1  \n",
       "1033             5777.86        148  \n",
       "\n",
       "[783 rows x 13 columns]"
      ]
     },
     "execution_count": 23,
     "metadata": {},
     "output_type": "execute_result"
    }
   ],
   "source": [
    "df_numx=df1.select_dtypes(np.number)\n",
    "df_numx"
   ]
  },
  {
   "cell_type": "code",
   "execution_count": 24,
   "metadata": {},
   "outputs": [
    {
     "data": {
      "text/plain": [
       "Term                          0.634294\n",
       "BorrowerAPR                   0.146647\n",
       "BorrowerRate                  0.225834\n",
       "LenderYield                   0.225834\n",
       "ProsperScore                  0.149154\n",
       "ListingCategory (numeric)     2.002895\n",
       "AmountDelinquent             14.698357\n",
       "StatedMonthlyIncome           3.273664\n",
       "LoanCurrentDaysDelinquent     5.220228\n",
       "LoanOriginalAmount            1.103338\n",
       "MonthlyLoanPayment            1.246608\n",
       "LP_InterestandFees            2.058015\n",
       "Investors                     2.707363\n",
       "dtype: float64"
      ]
     },
     "execution_count": 24,
     "metadata": {},
     "output_type": "execute_result"
    }
   ],
   "source": [
    "df_numx.skew()"
   ]
  },
  {
   "cell_type": "markdown",
   "metadata": {},
   "source": [
    "Term,ListingCategory (numeric),AmountDelinquent,StatedMonthlyIncome,LoanCurrentDaysDelinquent,LoanOriginalAmount,\n",
    "MonthlyLoanPayment,LP_InterestandFees,Investors     are POSITIVELY  SKEWED  DISTRIBUTIONS"
   ]
  },
  {
   "cell_type": "markdown",
   "metadata": {},
   "source": [
    "BorrowerAPR,BorrowerRate,LenderYield,ProsperScore  are moderately  positive skewed"
   ]
  },
  {
   "cell_type": "code",
   "execution_count": 25,
   "metadata": {},
   "outputs": [
    {
     "data": {
      "image/png": "[encoded data removed]",
      "text/plain": [
       "<Figure size 2160x2160 with 14 Axes>"
      ]
     },
     "metadata": {
      "needs_background": "light"
     },
     "output_type": "display_data"
    }
   ],
   "source": [
    "fig,ax=plt.subplots(7,2,figsize=(30,30))\n",
    "\n",
    "\n",
    "for  column,subplot  in  zip(df_numx.columns,ax.flatten()):\n",
    "    z=sns.distplot(df_numx[column],ax=subplot)\n",
    "    z.set_xlabel(column, fontsize = 20)\n",
    "    \n",
    "\n",
    "plt.tight_layout()    "
   ]
  },
  {
   "cell_type": "markdown",
   "metadata": {},
   "source": [
    "<h4 class=\"list-group-item list-group-item-action active\" >4. BIVARIATE ANALYSIS</h4>\n",
    "\n",
    ">#### A. Check the correlation matrix for all numeric variables. Maintain the Strong positive and Negative correlations columns.\n",
    ">#### B. Check the relation between `LoanOriginalAmount` and `BorrowerAPR` columns. \n",
    "\n",
    "    Step1: Use subplots. \n",
    "    \n",
    "        Plot1: Scatter Plot of LoanOriginalAmount and BorrowerAPR columns    \n",
    "\n",
    "        Plot2: HeatMap of LoanOriginalAmount and BorrowerAPR\n",
    "        \n",
    "    Step2: Write your observations.         \n",
    "        \n",
    ">#### C.Display the seperate box plot for `y = BorrowerAPR`  with x1 = `LoanStatus`, x2 = `EmploymentStatus` columns.Write your observations. \n"
   ]
  },
  {
   "cell_type": "markdown",
   "metadata": {},
   "source": [
    "A. Check the correlation matrix for all numeric variables. Maintain the Strong positive and Negative correlations columns."
   ]
  },
  {
   "cell_type": "code",
   "execution_count": 26,
   "metadata": {},
   "outputs": [
    {
     "data": {
      "text/html": [
       "<div>\n",
       "<style scoped>\n",
       "    .dataframe tbody tr th:only-of-type {\n",
       "        vertical-align: middle;\n",
       "    }\n",
       "\n",
       "    .dataframe tbody tr th {\n",
       "        vertical-align: top;\n",
       "    }\n",
       "\n",
       "    .dataframe thead th {\n",
       "        text-align: right;\n",
       "    }\n",
       "</style>\n",
       "<table border=\"1\" class=\"dataframe\">\n",
       "  <thead>\n",
       "    <tr style=\"text-align: right;\">\n",
       "      <th></th>\n",
       "      <th>Term</th>\n",
       "      <th>BorrowerAPR</th>\n",
       "      <th>BorrowerRate</th>\n",
       "      <th>LenderYield</th>\n",
       "      <th>ProsperScore</th>\n",
       "      <th>ListingCategory (numeric)</th>\n",
       "      <th>AmountDelinquent</th>\n",
       "      <th>StatedMonthlyIncome</th>\n",
       "      <th>LoanCurrentDaysDelinquent</th>\n",
       "      <th>LoanOriginalAmount</th>\n",
       "      <th>MonthlyLoanPayment</th>\n",
       "      <th>LP_InterestandFees</th>\n",
       "      <th>Investors</th>\n",
       "    </tr>\n",
       "  </thead>\n",
       "  <tbody>\n",
       "    <tr>\n",
       "      <th>1</th>\n",
       "      <td>36</td>\n",
       "      <td>0.12016</td>\n",
       "      <td>0.0920</td>\n",
       "      <td>0.0820</td>\n",
       "      <td>7.0</td>\n",
       "      <td>2</td>\n",
       "      <td>0.0</td>\n",
       "      <td>6125.000000</td>\n",
       "      <td>0</td>\n",
       "      <td>10000</td>\n",
       "      <td>318.93</td>\n",
       "      <td>0.00</td>\n",
       "      <td>1</td>\n",
       "    </tr>\n",
       "    <tr>\n",
       "      <th>3</th>\n",
       "      <td>36</td>\n",
       "      <td>0.12528</td>\n",
       "      <td>0.0974</td>\n",
       "      <td>0.0874</td>\n",
       "      <td>9.0</td>\n",
       "      <td>16</td>\n",
       "      <td>10056.0</td>\n",
       "      <td>2875.000000</td>\n",
       "      <td>0</td>\n",
       "      <td>10000</td>\n",
       "      <td>321.45</td>\n",
       "      <td>1052.11</td>\n",
       "      <td>158</td>\n",
       "    </tr>\n",
       "    <tr>\n",
       "      <th>4</th>\n",
       "      <td>36</td>\n",
       "      <td>0.24614</td>\n",
       "      <td>0.2085</td>\n",
       "      <td>0.1985</td>\n",
       "      <td>4.0</td>\n",
       "      <td>2</td>\n",
       "      <td>0.0</td>\n",
       "      <td>9583.333333</td>\n",
       "      <td>0</td>\n",
       "      <td>15000</td>\n",
       "      <td>563.97</td>\n",
       "      <td>1256.63</td>\n",
       "      <td>20</td>\n",
       "    </tr>\n",
       "    <tr>\n",
       "      <th>5</th>\n",
       "      <td>60</td>\n",
       "      <td>0.15425</td>\n",
       "      <td>0.1314</td>\n",
       "      <td>0.1214</td>\n",
       "      <td>10.0</td>\n",
       "      <td>1</td>\n",
       "      <td>0.0</td>\n",
       "      <td>8333.333333</td>\n",
       "      <td>0</td>\n",
       "      <td>15000</td>\n",
       "      <td>342.37</td>\n",
       "      <td>327.45</td>\n",
       "      <td>1</td>\n",
       "    </tr>\n",
       "    <tr>\n",
       "      <th>6</th>\n",
       "      <td>36</td>\n",
       "      <td>0.31032</td>\n",
       "      <td>0.2712</td>\n",
       "      <td>0.2612</td>\n",
       "      <td>2.0</td>\n",
       "      <td>1</td>\n",
       "      <td>0.0</td>\n",
       "      <td>2083.333333</td>\n",
       "      <td>0</td>\n",
       "      <td>3000</td>\n",
       "      <td>122.67</td>\n",
       "      <td>622.45</td>\n",
       "      <td>1</td>\n",
       "    </tr>\n",
       "  </tbody>\n",
       "</table>\n",
       "</div>"
      ],
      "text/plain": [
       "   Term  BorrowerAPR  BorrowerRate  LenderYield  ProsperScore  \\\n",
       "1    36      0.12016        0.0920       0.0820           7.0   \n",
       "3    36      0.12528        0.0974       0.0874           9.0   \n",
       "4    36      0.24614        0.2085       0.1985           4.0   \n",
       "5    60      0.15425        0.1314       0.1214          10.0   \n",
       "6    36      0.31032        0.2712       0.2612           2.0   \n",
       "\n",
       "   ListingCategory (numeric)  AmountDelinquent  StatedMonthlyIncome  \\\n",
       "1                          2               0.0          6125.000000   \n",
       "3                         16           10056.0          2875.000000   \n",
       "4                          2               0.0          9583.333333   \n",
       "5                          1               0.0          8333.333333   \n",
       "6                          1               0.0          2083.333333   \n",
       "\n",
       "   LoanCurrentDaysDelinquent  LoanOriginalAmount  MonthlyLoanPayment  \\\n",
       "1                          0               10000              318.93   \n",
       "3                          0               10000              321.45   \n",
       "4                          0               15000              563.97   \n",
       "5                          0               15000              342.37   \n",
       "6                          0                3000              122.67   \n",
       "\n",
       "   LP_InterestandFees  Investors  \n",
       "1                0.00          1  \n",
       "3             1052.11        158  \n",
       "4             1256.63         20  \n",
       "5              327.45          1  \n",
       "6              622.45          1  "
      ]
     },
     "execution_count": 26,
     "metadata": {},
     "output_type": "execute_result"
    }
   ],
   "source": [
    "df_numx.head()"
   ]
  },
  {
   "cell_type": "code",
   "execution_count": 27,
   "metadata": {},
   "outputs": [
    {
     "data": {
      "text/html": [
       "<div>\n",
       "<style scoped>\n",
       "    .dataframe tbody tr th:only-of-type {\n",
       "        vertical-align: middle;\n",
       "    }\n",
       "\n",
       "    .dataframe tbody tr th {\n",
       "        vertical-align: top;\n",
       "    }\n",
       "\n",
       "    .dataframe thead th {\n",
       "        text-align: right;\n",
       "    }\n",
       "</style>\n",
       "<table border=\"1\" class=\"dataframe\">\n",
       "  <thead>\n",
       "    <tr style=\"text-align: right;\">\n",
       "      <th></th>\n",
       "      <th>Term</th>\n",
       "      <th>BorrowerAPR</th>\n",
       "      <th>BorrowerRate</th>\n",
       "      <th>LenderYield</th>\n",
       "      <th>ProsperScore</th>\n",
       "      <th>ListingCategory (numeric)</th>\n",
       "      <th>AmountDelinquent</th>\n",
       "      <th>StatedMonthlyIncome</th>\n",
       "      <th>LoanCurrentDaysDelinquent</th>\n",
       "      <th>LoanOriginalAmount</th>\n",
       "      <th>MonthlyLoanPayment</th>\n",
       "      <th>LP_InterestandFees</th>\n",
       "      <th>Investors</th>\n",
       "    </tr>\n",
       "  </thead>\n",
       "  <tbody>\n",
       "    <tr>\n",
       "      <th>Term</th>\n",
       "      <td>1.000000</td>\n",
       "      <td>-0.114773</td>\n",
       "      <td>-0.051395</td>\n",
       "      <td>-0.051395</td>\n",
       "      <td>0.090518</td>\n",
       "      <td>-0.108346</td>\n",
       "      <td>-0.066580</td>\n",
       "      <td>0.075713</td>\n",
       "      <td>-0.090192</td>\n",
       "      <td>0.363728</td>\n",
       "      <td>0.075655</td>\n",
       "      <td>0.166858</td>\n",
       "      <td>-0.030132</td>\n",
       "    </tr>\n",
       "    <tr>\n",
       "      <th>BorrowerAPR</th>\n",
       "      <td>-0.114773</td>\n",
       "      <td>1.000000</td>\n",
       "      <td>0.993566</td>\n",
       "      <td>0.993566</td>\n",
       "      <td>-0.640320</td>\n",
       "      <td>0.158519</td>\n",
       "      <td>0.005908</td>\n",
       "      <td>-0.252639</td>\n",
       "      <td>0.227554</td>\n",
       "      <td>-0.422646</td>\n",
       "      <td>-0.312658</td>\n",
       "      <td>0.230707</td>\n",
       "      <td>-0.234232</td>\n",
       "    </tr>\n",
       "    <tr>\n",
       "      <th>BorrowerRate</th>\n",
       "      <td>-0.051395</td>\n",
       "      <td>0.993566</td>\n",
       "      <td>1.000000</td>\n",
       "      <td>1.000000</td>\n",
       "      <td>-0.619934</td>\n",
       "      <td>0.148140</td>\n",
       "      <td>-0.003389</td>\n",
       "      <td>-0.254265</td>\n",
       "      <td>0.238240</td>\n",
       "      <td>-0.412322</td>\n",
       "      <td>-0.322830</td>\n",
       "      <td>0.257639</td>\n",
       "      <td>-0.214173</td>\n",
       "    </tr>\n",
       "    <tr>\n",
       "      <th>LenderYield</th>\n",
       "      <td>-0.051395</td>\n",
       "      <td>0.993566</td>\n",
       "      <td>1.000000</td>\n",
       "      <td>1.000000</td>\n",
       "      <td>-0.619934</td>\n",
       "      <td>0.148140</td>\n",
       "      <td>-0.003389</td>\n",
       "      <td>-0.254265</td>\n",
       "      <td>0.238240</td>\n",
       "      <td>-0.412322</td>\n",
       "      <td>-0.322830</td>\n",
       "      <td>0.257639</td>\n",
       "      <td>-0.214173</td>\n",
       "    </tr>\n",
       "    <tr>\n",
       "      <th>ProsperScore</th>\n",
       "      <td>0.090518</td>\n",
       "      <td>-0.640320</td>\n",
       "      <td>-0.619934</td>\n",
       "      <td>-0.619934</td>\n",
       "      <td>1.000000</td>\n",
       "      <td>-0.041906</td>\n",
       "      <td>-0.062707</td>\n",
       "      <td>0.199536</td>\n",
       "      <td>-0.072170</td>\n",
       "      <td>0.245904</td>\n",
       "      <td>0.144268</td>\n",
       "      <td>0.016248</td>\n",
       "      <td>0.311131</td>\n",
       "    </tr>\n",
       "    <tr>\n",
       "      <th>ListingCategory (numeric)</th>\n",
       "      <td>-0.108346</td>\n",
       "      <td>0.158519</td>\n",
       "      <td>0.148140</td>\n",
       "      <td>0.148140</td>\n",
       "      <td>-0.041906</td>\n",
       "      <td>1.000000</td>\n",
       "      <td>0.076968</td>\n",
       "      <td>-0.082321</td>\n",
       "      <td>0.010424</td>\n",
       "      <td>-0.229170</td>\n",
       "      <td>-0.206464</td>\n",
       "      <td>0.031386</td>\n",
       "      <td>-0.033180</td>\n",
       "    </tr>\n",
       "    <tr>\n",
       "      <th>AmountDelinquent</th>\n",
       "      <td>-0.066580</td>\n",
       "      <td>0.005908</td>\n",
       "      <td>-0.003389</td>\n",
       "      <td>-0.003389</td>\n",
       "      <td>-0.062707</td>\n",
       "      <td>0.076968</td>\n",
       "      <td>1.000000</td>\n",
       "      <td>-0.017033</td>\n",
       "      <td>-0.005276</td>\n",
       "      <td>-0.071448</td>\n",
       "      <td>-0.062087</td>\n",
       "      <td>-0.056868</td>\n",
       "      <td>-0.045042</td>\n",
       "    </tr>\n",
       "    <tr>\n",
       "      <th>StatedMonthlyIncome</th>\n",
       "      <td>0.075713</td>\n",
       "      <td>-0.252639</td>\n",
       "      <td>-0.254265</td>\n",
       "      <td>-0.254265</td>\n",
       "      <td>0.199536</td>\n",
       "      <td>-0.082321</td>\n",
       "      <td>-0.017033</td>\n",
       "      <td>1.000000</td>\n",
       "      <td>-0.098607</td>\n",
       "      <td>0.418816</td>\n",
       "      <td>0.396892</td>\n",
       "      <td>0.108826</td>\n",
       "      <td>0.088789</td>\n",
       "    </tr>\n",
       "    <tr>\n",
       "      <th>LoanCurrentDaysDelinquent</th>\n",
       "      <td>-0.090192</td>\n",
       "      <td>0.227554</td>\n",
       "      <td>0.238240</td>\n",
       "      <td>0.238240</td>\n",
       "      <td>-0.072170</td>\n",
       "      <td>0.010424</td>\n",
       "      <td>-0.005276</td>\n",
       "      <td>-0.098607</td>\n",
       "      <td>1.000000</td>\n",
       "      <td>-0.136783</td>\n",
       "      <td>-0.101961</td>\n",
       "      <td>-0.029949</td>\n",
       "      <td>0.041179</td>\n",
       "    </tr>\n",
       "    <tr>\n",
       "      <th>LoanOriginalAmount</th>\n",
       "      <td>0.363728</td>\n",
       "      <td>-0.422646</td>\n",
       "      <td>-0.412322</td>\n",
       "      <td>-0.412322</td>\n",
       "      <td>0.245904</td>\n",
       "      <td>-0.229170</td>\n",
       "      <td>-0.071448</td>\n",
       "      <td>0.418816</td>\n",
       "      <td>-0.136783</td>\n",
       "      <td>1.000000</td>\n",
       "      <td>0.924229</td>\n",
       "      <td>0.269348</td>\n",
       "      <td>0.298321</td>\n",
       "    </tr>\n",
       "    <tr>\n",
       "      <th>MonthlyLoanPayment</th>\n",
       "      <td>0.075655</td>\n",
       "      <td>-0.312658</td>\n",
       "      <td>-0.322830</td>\n",
       "      <td>-0.322830</td>\n",
       "      <td>0.144268</td>\n",
       "      <td>-0.206464</td>\n",
       "      <td>-0.062087</td>\n",
       "      <td>0.396892</td>\n",
       "      <td>-0.101961</td>\n",
       "      <td>0.924229</td>\n",
       "      <td>1.000000</td>\n",
       "      <td>0.291726</td>\n",
       "      <td>0.286374</td>\n",
       "    </tr>\n",
       "    <tr>\n",
       "      <th>LP_InterestandFees</th>\n",
       "      <td>0.166858</td>\n",
       "      <td>0.230707</td>\n",
       "      <td>0.257639</td>\n",
       "      <td>0.257639</td>\n",
       "      <td>0.016248</td>\n",
       "      <td>0.031386</td>\n",
       "      <td>-0.056868</td>\n",
       "      <td>0.108826</td>\n",
       "      <td>-0.029949</td>\n",
       "      <td>0.269348</td>\n",
       "      <td>0.291726</td>\n",
       "      <td>1.000000</td>\n",
       "      <td>0.358959</td>\n",
       "    </tr>\n",
       "    <tr>\n",
       "      <th>Investors</th>\n",
       "      <td>-0.030132</td>\n",
       "      <td>-0.234232</td>\n",
       "      <td>-0.214173</td>\n",
       "      <td>-0.214173</td>\n",
       "      <td>0.311131</td>\n",
       "      <td>-0.033180</td>\n",
       "      <td>-0.045042</td>\n",
       "      <td>0.088789</td>\n",
       "      <td>0.041179</td>\n",
       "      <td>0.298321</td>\n",
       "      <td>0.286374</td>\n",
       "      <td>0.358959</td>\n",
       "      <td>1.000000</td>\n",
       "    </tr>\n",
       "  </tbody>\n",
       "</table>\n",
       "</div>"
      ],
      "text/plain": [
       "                               Term  BorrowerAPR  BorrowerRate  LenderYield  \\\n",
       "Term                       1.000000    -0.114773     -0.051395    -0.051395   \n",
       "BorrowerAPR               -0.114773     1.000000      0.993566     0.993566   \n",
       "BorrowerRate              -0.051395     0.993566      1.000000     1.000000   \n",
       "LenderYield               -0.051395     0.993566      1.000000     1.000000   \n",
       "ProsperScore               0.090518    -0.640320     -0.619934    -0.619934   \n",
       "ListingCategory (numeric) -0.108346     0.158519      0.148140     0.148140   \n",
       "AmountDelinquent          -0.066580     0.005908     -0.003389    -0.003389   \n",
       "StatedMonthlyIncome        0.075713    -0.252639     -0.254265    -0.254265   \n",
       "LoanCurrentDaysDelinquent -0.090192     0.227554      0.238240     0.238240   \n",
       "LoanOriginalAmount         0.363728    -0.422646     -0.412322    -0.412322   \n",
       "MonthlyLoanPayment         0.075655    -0.312658     -0.322830    -0.322830   \n",
       "LP_InterestandFees         0.166858     0.230707      0.257639     0.257639   \n",
       "Investors                 -0.030132    -0.234232     -0.214173    -0.214173   \n",
       "\n",
       "                           ProsperScore  ListingCategory (numeric)  \\\n",
       "Term                           0.090518                  -0.108346   \n",
       "BorrowerAPR                   -0.640320                   0.158519   \n",
       "BorrowerRate                  -0.619934                   0.148140   \n",
       "LenderYield                   -0.619934                   0.148140   \n",
       "ProsperScore                   1.000000                  -0.041906   \n",
       "ListingCategory (numeric)     -0.041906                   1.000000   \n",
       "AmountDelinquent              -0.062707                   0.076968   \n",
       "StatedMonthlyIncome            0.199536                  -0.082321   \n",
       "LoanCurrentDaysDelinquent     -0.072170                   0.010424   \n",
       "LoanOriginalAmount             0.245904                  -0.229170   \n",
       "MonthlyLoanPayment             0.144268                  -0.206464   \n",
       "LP_InterestandFees             0.016248                   0.031386   \n",
       "Investors                      0.311131                  -0.033180   \n",
       "\n",
       "                           AmountDelinquent  StatedMonthlyIncome  \\\n",
       "Term                              -0.066580             0.075713   \n",
       "BorrowerAPR                        0.005908            -0.252639   \n",
       "BorrowerRate                      -0.003389            -0.254265   \n",
       "LenderYield                       -0.003389            -0.254265   \n",
       "ProsperScore                      -0.062707             0.199536   \n",
       "ListingCategory (numeric)          0.076968            -0.082321   \n",
       "AmountDelinquent                   1.000000            -0.017033   \n",
       "StatedMonthlyIncome               -0.017033             1.000000   \n",
       "LoanCurrentDaysDelinquent         -0.005276            -0.098607   \n",
       "LoanOriginalAmount                -0.071448             0.418816   \n",
       "MonthlyLoanPayment                -0.062087             0.396892   \n",
       "LP_InterestandFees                -0.056868             0.108826   \n",
       "Investors                         -0.045042             0.088789   \n",
       "\n",
       "                           LoanCurrentDaysDelinquent  LoanOriginalAmount  \\\n",
       "Term                                       -0.090192            0.363728   \n",
       "BorrowerAPR                                 0.227554           -0.422646   \n",
       "BorrowerRate                                0.238240           -0.412322   \n",
       "LenderYield                                 0.238240           -0.412322   \n",
       "ProsperScore                               -0.072170            0.245904   \n",
       "ListingCategory (numeric)                   0.010424           -0.229170   \n",
       "AmountDelinquent                           -0.005276           -0.071448   \n",
       "StatedMonthlyIncome                        -0.098607            0.418816   \n",
       "LoanCurrentDaysDelinquent                   1.000000           -0.136783   \n",
       "LoanOriginalAmount                         -0.136783            1.000000   \n",
       "MonthlyLoanPayment                         -0.101961            0.924229   \n",
       "LP_InterestandFees                         -0.029949            0.269348   \n",
       "Investors                                   0.041179            0.298321   \n",
       "\n",
       "                           MonthlyLoanPayment  LP_InterestandFees  Investors  \n",
       "Term                                 0.075655            0.166858  -0.030132  \n",
       "BorrowerAPR                         -0.312658            0.230707  -0.234232  \n",
       "BorrowerRate                        -0.322830            0.257639  -0.214173  \n",
       "LenderYield                         -0.322830            0.257639  -0.214173  \n",
       "ProsperScore                         0.144268            0.016248   0.311131  \n",
       "ListingCategory (numeric)           -0.206464            0.031386  -0.033180  \n",
       "AmountDelinquent                    -0.062087           -0.056868  -0.045042  \n",
       "StatedMonthlyIncome                  0.396892            0.108826   0.088789  \n",
       "LoanCurrentDaysDelinquent           -0.101961           -0.029949   0.041179  \n",
       "LoanOriginalAmount                   0.924229            0.269348   0.298321  \n",
       "MonthlyLoanPayment                   1.000000            0.291726   0.286374  \n",
       "LP_InterestandFees                   0.291726            1.000000   0.358959  \n",
       "Investors                            0.286374            0.358959   1.000000  "
      ]
     },
     "execution_count": 27,
     "metadata": {},
     "output_type": "execute_result"
    }
   ],
   "source": [
    "df_numx.corr()"
   ]
  },
  {
   "cell_type": "code",
   "execution_count": 28,
   "metadata": {},
   "outputs": [
    {
     "data": {
      "text/plain": [
       "<matplotlib.axes._subplots.AxesSubplot at 0x1d09c387eb0>"
      ]
     },
     "execution_count": 28,
     "metadata": {},
     "output_type": "execute_result"
    },
    {
     "data": {
      "image/png": "[encoded data removed]",
      "text/plain": [
       "<Figure size 1152x1152 with 2 Axes>"
      ]
     },
     "metadata": {
      "needs_background": "light"
     },
     "output_type": "display_data"
    }
   ],
   "source": [
    "plt.figure(figsize=(16,16))\n",
    "sns.heatmap(df_numx.corr(),cmap='coolwarm',annot=True)"
   ]
  },
  {
   "cell_type": "markdown",
   "metadata": {},
   "source": [
    "OBSERVATIONS\n",
    "\n",
    "1)Strong positive correlation  exists between  Monthly Loan Payment and Loan Original Amount, Lender Yield and Borrower Rate ,\n",
    "   Lender Yield and Borrower APR\n",
    "\n",
    "2)Moderately negative correlation exists between Borrower APR and ProsperScore,Borrower Rate and ProsperScore, \n",
    "  Lender Yield and ProsperScore"
   ]
  },
  {
   "cell_type": "markdown",
   "metadata": {},
   "source": [
    "B. Check the relation between LoanOriginalAmount and BorrowerAPR columns."
   ]
  },
  {
   "cell_type": "code",
   "execution_count": 29,
   "metadata": {},
   "outputs": [
    {
     "data": {
      "text/html": [
       "<div>\n",
       "<style scoped>\n",
       "    .dataframe tbody tr th:only-of-type {\n",
       "        vertical-align: middle;\n",
       "    }\n",
       "\n",
       "    .dataframe tbody tr th {\n",
       "        vertical-align: top;\n",
       "    }\n",
       "\n",
       "    .dataframe thead th {\n",
       "        text-align: right;\n",
       "    }\n",
       "</style>\n",
       "<table border=\"1\" class=\"dataframe\">\n",
       "  <thead>\n",
       "    <tr style=\"text-align: right;\">\n",
       "      <th></th>\n",
       "      <th>LoanOriginalAmount</th>\n",
       "      <th>BorrowerAPR</th>\n",
       "    </tr>\n",
       "  </thead>\n",
       "  <tbody>\n",
       "    <tr>\n",
       "      <th>1</th>\n",
       "      <td>10000</td>\n",
       "      <td>0.12016</td>\n",
       "    </tr>\n",
       "    <tr>\n",
       "      <th>3</th>\n",
       "      <td>10000</td>\n",
       "      <td>0.12528</td>\n",
       "    </tr>\n",
       "    <tr>\n",
       "      <th>4</th>\n",
       "      <td>15000</td>\n",
       "      <td>0.24614</td>\n",
       "    </tr>\n",
       "    <tr>\n",
       "      <th>5</th>\n",
       "      <td>15000</td>\n",
       "      <td>0.15425</td>\n",
       "    </tr>\n",
       "    <tr>\n",
       "      <th>6</th>\n",
       "      <td>3000</td>\n",
       "      <td>0.31032</td>\n",
       "    </tr>\n",
       "  </tbody>\n",
       "</table>\n",
       "</div>"
      ],
      "text/plain": [
       "   LoanOriginalAmount  BorrowerAPR\n",
       "1               10000      0.12016\n",
       "3               10000      0.12528\n",
       "4               15000      0.24614\n",
       "5               15000      0.15425\n",
       "6                3000      0.31032"
      ]
     },
     "execution_count": 29,
     "metadata": {},
     "output_type": "execute_result"
    }
   ],
   "source": [
    "df_numx[['LoanOriginalAmount','BorrowerAPR']].head()"
   ]
  },
  {
   "cell_type": "code",
   "execution_count": 30,
   "metadata": {},
   "outputs": [
    {
     "data": {
      "text/html": [
       "<div>\n",
       "<style scoped>\n",
       "    .dataframe tbody tr th:only-of-type {\n",
       "        vertical-align: middle;\n",
       "    }\n",
       "\n",
       "    .dataframe tbody tr th {\n",
       "        vertical-align: top;\n",
       "    }\n",
       "\n",
       "    .dataframe thead th {\n",
       "        text-align: right;\n",
       "    }\n",
       "</style>\n",
       "<table border=\"1\" class=\"dataframe\">\n",
       "  <thead>\n",
       "    <tr style=\"text-align: right;\">\n",
       "      <th></th>\n",
       "      <th>LoanOriginalAmount</th>\n",
       "      <th>BorrowerAPR</th>\n",
       "    </tr>\n",
       "  </thead>\n",
       "  <tbody>\n",
       "    <tr>\n",
       "      <th>LoanOriginalAmount</th>\n",
       "      <td>1.000000</td>\n",
       "      <td>-0.422646</td>\n",
       "    </tr>\n",
       "    <tr>\n",
       "      <th>BorrowerAPR</th>\n",
       "      <td>-0.422646</td>\n",
       "      <td>1.000000</td>\n",
       "    </tr>\n",
       "  </tbody>\n",
       "</table>\n",
       "</div>"
      ],
      "text/plain": [
       "                    LoanOriginalAmount  BorrowerAPR\n",
       "LoanOriginalAmount            1.000000    -0.422646\n",
       "BorrowerAPR                  -0.422646     1.000000"
      ]
     },
     "execution_count": 30,
     "metadata": {},
     "output_type": "execute_result"
    }
   ],
   "source": [
    "df_numx[['LoanOriginalAmount','BorrowerAPR']].corr()"
   ]
  },
  {
   "cell_type": "markdown",
   "metadata": {},
   "source": [
    "LoanOriginalAmount  and  BorrowerAPR have fair  negative correlation with each  other .\n",
    "\n",
    "As Loan Original Amount increases ,  Borrower APR  decreases fairly"
   ]
  },
  {
   "cell_type": "code",
   "execution_count": 31,
   "metadata": {},
   "outputs": [
    {
     "data": {
      "text/plain": [
       "<matplotlib.axes._subplots.AxesSubplot at 0x1d09cd9b9a0>"
      ]
     },
     "execution_count": 31,
     "metadata": {},
     "output_type": "execute_result"
    },
    {
     "data": {
      "image/png": "[encoded data removed]",
      "text/plain": [
       "<Figure size 1152x432 with 3 Axes>"
      ]
     },
     "metadata": {
      "needs_background": "light"
     },
     "output_type": "display_data"
    }
   ],
   "source": [
    "plt.figure(figsize=(16,6))\n",
    "\n",
    "\n",
    "\n",
    "plt.subplot(1,2,1)\n",
    "\n",
    "\n",
    "sns.heatmap(df_numx[['LoanOriginalAmount','BorrowerAPR']].corr(),cmap='coolwarm')\n",
    "\n",
    "plt.subplot(1,2,2)\n",
    "\n",
    "\n",
    "sns.scatterplot(x=df_numx['LoanOriginalAmount'],y=df_numx['BorrowerAPR'])"
   ]
  },
  {
   "cell_type": "markdown",
   "metadata": {},
   "source": [
    "C.Display the seperate box plot for y = BorrowerAPR with x1 = LoanStatus, x2 = EmploymentStatus columns.\n",
    "Write your observations."
   ]
  },
  {
   "cell_type": "code",
   "execution_count": 32,
   "metadata": {},
   "outputs": [
    {
     "data": {
      "image/png": "[encoded data removed]",
      "text/plain": [
       "<Figure size 1008x432 with 1 Axes>"
      ]
     },
     "metadata": {
      "needs_background": "light"
     },
     "output_type": "display_data"
    }
   ],
   "source": [
    "plt.figure(figsize=(14,6))\n",
    "\n",
    "sns.boxplot(df1['LoanStatus'],y=df1['BorrowerAPR'])\n",
    "plt.xticks(rotation=45)\n",
    "plt.xlabel('LoanStatus',fontsize=20)\n",
    "plt.ylabel('BorrrowerAPR',fontsize=20)\n",
    "\n",
    "plt.tight_layout()"
   ]
  },
  {
   "cell_type": "markdown",
   "metadata": {},
   "source": [
    "OBSERVATIONS\n",
    "\n",
    "For LoanSTATUS  whose are \n",
    "Defaulted  -  nearly  50 percent of those who are defaulted have higher Borrower APR (which  is  not  good , APR Should\n",
    "              be less than 14 percent) in this case it is from  28%  to  34%.\n",
    "              \n",
    "Past Due(16-30 Days) -  nearly  50 percent of those who are defaulted have higher Borrower APR (which  is  not  good , APR   \n",
    "              shoul be less than 14 percent) in this case it is from  34%  to  36%.\n",
    "              \n",
    "ChargedOff  -  nearly  50 percent of those who are defaulted have higher Borrower APR (which  is  not  good , APR Should\n",
    "              be less than 14 percent) in this case it is from  27%  to  37%.  nearly\n",
    "              \n",
    "              \n",
    "The term annual percentage rate of charge, corresponding sometimes to a nominal APR and sometimes to an effective APR, \n",
    "is the interest rate for a whole year, rather than just a monthly fee/rate, as applied on a loan, mortgage loan\n",
    "It is a finance charge expressed as an annual rate. Wikipedia"
   ]
  },
  {
   "cell_type": "code",
   "execution_count": 33,
   "metadata": {},
   "outputs": [
    {
     "data": {
      "image/png": "[encoded data removed]",
      "text/plain": [
       "<Figure size 1008x432 with 1 Axes>"
      ]
     },
     "metadata": {
      "needs_background": "light"
     },
     "output_type": "display_data"
    }
   ],
   "source": [
    "plt.figure(figsize=(14,6))\n",
    "\n",
    "sns.boxplot(df1['EmploymentStatus'],y=df1['BorrowerAPR'])\n",
    "plt.xticks(rotation=45)\n",
    "plt.xlabel('EmploymentStatus',fontsize=20)\n",
    "plt.ylabel('BorrrowerAPR',fontsize=20)\n",
    "\n",
    "plt.tight_layout()"
   ]
  },
  {
   "cell_type": "markdown",
   "metadata": {},
   "source": [
    "OBSERVATIONS\n",
    "\n",
    "For EMPLOYMENT STATUS  whose are \n",
    "Not Employed  -  nearly  50 percent of those who are defaulted have higher Borrower APR (which  is  not  good , APR Should\n",
    "              be less than 14 percent) in this case it is from  30%  to  36%.\n",
    "              \n",
    "Retired -  nearly  50 percent of those who are defaulted have higher Borrower APR (which  is  not  good , APR   \n",
    "              shoul be less than 14 percent) in this case it is from  28%  to  34%.\n",
    "              \n",
    "Part Time  -  nearly  50 percent of those who are defaulted have Lower Borrower APR (which  is    good , APR Should\n",
    "              be less than 14 percent) in this case it is from  7%  to  17%.  nearly\n",
    "              \n",
    "              \n",
    "The term annual percentage rate of charge, corresponding sometimes to a nominal APR and sometimes to an effective APR, \n",
    "is the interest rate for a whole year, rather than just a monthly fee/rate, as applied on a loan, mortgage loan\n",
    "It is a finance charge expressed as an annual rate. Wikipedia"
   ]
  },
  {
   "cell_type": "markdown",
   "metadata": {},
   "source": [
    "<h4 class=\"list-group-item list-group-item-action active\" >5.  MULTI VARIATE ANALYSIS, FEATURE ENGINEERING</h4>\n",
    "\n",
    ">#### A. Write a program\n",
    "\n",
    "    Step 1: Create a  condition = 'LoanStatus'== 'Completed'| 'LoanStatus' == 'Defaulted' |\\'LoanStatus' == 'Chargedoff'\n",
    "\n",
    "    Step2: Create a user define function  using condition and `LoanStatus` column.\n",
    "\n",
    "    Hint: df['LoanStatus'] = df.apply(user define function , axis=1)\n",
    "    \n",
    "        Sample output : \n",
    "        \n",
    "        \n",
    "        Completed    168\n",
    "        \n",
    "        Defaulted     59\n",
    "\n",
    "\n",
    ">#### B. Write a program\n",
    "\n",
    "    Step 1: Create a  dictionary called categories = 1: 'Debt Consolidation', 2: 'Home Improvement', 3: 'Business', 6: 'Auto', 7: 'Other'\n",
    "\n",
    "    Step2: Create a user define function  using categories and `ListingCategory (numeric)` column.\n",
    "\n",
    "    Hint: df['ListingCategory (numeric)'] = df.apply(user define function , axis=1)\n",
    "    \n",
    "        Sample output : \n",
    "        \n",
    "        \n",
    "        Debt Consolidation    106\n",
    "\n",
    "        Other                  65\n",
    "\n",
    "        Business               25\n",
    "\n",
    "        Home Improvement       22\n",
    "\n",
    "        Auto                    9\n",
    "\n",
    ">#### C. Display the box plot for `ProsperRating (Alpha)` vs `LoanOriginalAmount` and hue = `Loan Status`[Completed,Defaulted]. Write your observations.\n",
    "\n",
    ">#### D. Display the catplot for `ProsperRating (Alpha)` vs `ListingCategory (numeric)`[Debt Consolidation,Other,Business,Home Improvement,Auto] and hue = `Loan Status`[Completed,Defaulted]. Write your observations."
   ]
  },
  {
   "cell_type": "markdown",
   "metadata": {},
   "source": [
    "A. Write a program"
   ]
  },
  {
   "cell_type": "markdown",
   "metadata": {},
   "source": [
    "Step 1: Create a  condition = 'LoanStatus'== 'Completed'| 'LoanStatus' == 'Defaulted' |\\'LoanStatus' == 'Chargedoff'\n",
    "\n",
    "Step2: Create a user define function  using condition and `LoanStatus` column.\n",
    "\n",
    "Hint: df['LoanStatus'] = df.apply(user define function , axis=1)\n",
    "\n",
    "    Sample output : \n",
    "\n",
    "\n",
    "    Completed    168\n",
    "\n",
    "    Defaulted     59"
   ]
  },
  {
   "cell_type": "code",
   "execution_count": 34,
   "metadata": {},
   "outputs": [],
   "source": [
    "def  Loan(dataframe,column,con):\n",
    "    \n",
    "    \n",
    "    if dataframe[column]  in  con:\n",
    "        if  dataframe[column]=='Chargedoff':\n",
    "            dataframe[column]='Defaulted'\n",
    "            \n",
    "        return dataframe[column]\n",
    "    else:\n",
    "        return np.NaN\n",
    "    \n"
   ]
  },
  {
   "cell_type": "code",
   "execution_count": 35,
   "metadata": {},
   "outputs": [
    {
     "data": {
      "text/plain": [
       "Current                  544\n",
       "Completed                168\n",
       "Chargedoff                48\n",
       "Defaulted                 11\n",
       "Past Due (1-15 days)       5\n",
       "Past Due (61-90 days)      4\n",
       "Past Due (16-30 days)      2\n",
       "Past Due (31-60 days)      1\n",
       "Name: LoanStatus, dtype: int64"
      ]
     },
     "execution_count": 35,
     "metadata": {},
     "output_type": "execute_result"
    }
   ],
   "source": [
    "df1['LoanStatus'].value_counts()"
   ]
  },
  {
   "cell_type": "code",
   "execution_count": 36,
   "metadata": {},
   "outputs": [],
   "source": [
    "df1['LoanStatus']=df1.apply(Loan,args=['LoanStatus',['Completed','Defaulted','Chargedoff']],axis=1)"
   ]
  },
  {
   "cell_type": "code",
   "execution_count": 37,
   "metadata": {},
   "outputs": [
    {
     "data": {
      "text/plain": [
       "556"
      ]
     },
     "execution_count": 37,
     "metadata": {},
     "output_type": "execute_result"
    }
   ],
   "source": [
    "df1['LoanStatus'].isnull().sum()"
   ]
  },
  {
   "cell_type": "code",
   "execution_count": 38,
   "metadata": {},
   "outputs": [
    {
     "data": {
      "text/plain": [
       "Completed    168\n",
       "Defaulted     59\n",
       "Name: LoanStatus, dtype: int64"
      ]
     },
     "execution_count": 38,
     "metadata": {},
     "output_type": "execute_result"
    }
   ],
   "source": [
    "df1['LoanStatus'].value_counts()"
   ]
  },
  {
   "cell_type": "code",
   "execution_count": 39,
   "metadata": {},
   "outputs": [],
   "source": [
    "df1.dropna(subset=['LoanStatus'],inplace=True)"
   ]
  },
  {
   "cell_type": "code",
   "execution_count": 40,
   "metadata": {},
   "outputs": [
    {
     "data": {
      "text/plain": [
       "0"
      ]
     },
     "execution_count": 40,
     "metadata": {},
     "output_type": "execute_result"
    }
   ],
   "source": [
    "df1['LoanStatus'].isnull().sum()"
   ]
  },
  {
   "cell_type": "code",
   "execution_count": 41,
   "metadata": {},
   "outputs": [
    {
     "name": "stdout",
     "output_type": "stream",
     "text": [
      "Completed 168\n",
      "\n",
      "Defaulted 59\n",
      "\n"
     ]
    }
   ],
   "source": [
    "x=df1['LoanStatus'].value_counts()\n",
    "\n",
    "for  i  in  range(len(x)):\n",
    "    print(x.index[i],x[i])\n",
    "    print()"
   ]
  },
  {
   "cell_type": "markdown",
   "metadata": {},
   "source": [
    "B. Write a program\n",
    "Step 1: Create a  dictionary called categories = 1: 'Debt Consolidation', 2: 'Home Improvement', 3: 'Business', 6: 'Auto', 7: 'Other'\n",
    "\n",
    "Step2: Create a user define function  using categories and `ListingCategory (numeric)` column.\n",
    "\n",
    "Hint: df['ListingCategory (numeric)'] = df.apply(user define function , axis=1)\n",
    "\n",
    "    Sample output : \n",
    "\n",
    "\n",
    "    Debt Consolidation    106\n",
    "\n",
    "    Other                  65\n",
    "\n",
    "    Business               25\n",
    "\n",
    "    Home Improvement       22\n",
    "\n",
    "    Auto                    9\n"
   ]
  },
  {
   "cell_type": "code",
   "execution_count": 54,
   "metadata": {},
   "outputs": [
    {
     "data": {
      "text/plain": [
       "{1: 'Debt Consolidation',\n",
       " 2: 'Home Improvement',\n",
       " 3: 'Business',\n",
       " 6: 'Auto',\n",
       " 7: 'Other'}"
      ]
     },
     "execution_count": 54,
     "metadata": {},
     "output_type": "execute_result"
    }
   ],
   "source": [
    "categories={1:'Debt Consolidation',2:'Home Improvement',3:'Business',6:'Auto',7:'Other'  }\n",
    "\n",
    "categories"
   ]
  },
  {
   "cell_type": "code",
   "execution_count": 43,
   "metadata": {},
   "outputs": [
    {
     "data": {
      "text/plain": [
       "'Business'"
      ]
     },
     "execution_count": 43,
     "metadata": {},
     "output_type": "execute_result"
    }
   ],
   "source": [
    "categories[3]"
   ]
  },
  {
   "cell_type": "code",
   "execution_count": 44,
   "metadata": {},
   "outputs": [
    {
     "data": {
      "text/plain": [
       "1     106\n",
       "7      37\n",
       "3      25\n",
       "2      22\n",
       "13      9\n",
       "6       9\n",
       "18      6\n",
       "15      5\n",
       "19      3\n",
       "20      2\n",
       "16      1\n",
       "14      1\n",
       "11      1\n",
       "Name: ListingCategory (numeric), dtype: int64"
      ]
     },
     "execution_count": 44,
     "metadata": {},
     "output_type": "execute_result"
    }
   ],
   "source": [
    "df1['ListingCategory (numeric)'].value_counts()"
   ]
  },
  {
   "cell_type": "code",
   "execution_count": 45,
   "metadata": {},
   "outputs": [],
   "source": [
    "def myfunc1(dataframe,column,dictt):\n",
    "           \n",
    "    if  dataframe[column]<7:\n",
    "        dataframe[column]=dictt[dataframe[column]]\n",
    "    else:\n",
    "        dataframe[column]=dictt[7]\n",
    "    return dataframe[column]\n",
    "        \n",
    "    "
   ]
  },
  {
   "cell_type": "code",
   "execution_count": 46,
   "metadata": {},
   "outputs": [
    {
     "data": {
      "text/plain": [
       "['Debt Consolidation', 'Home Improvement', 'Business', 'Auto', 'Other']"
      ]
     },
     "execution_count": 46,
     "metadata": {},
     "output_type": "execute_result"
    }
   ],
   "source": [
    "list(categories.values())"
   ]
  },
  {
   "cell_type": "code",
   "execution_count": 47,
   "metadata": {},
   "outputs": [],
   "source": [
    "df1['ListingCategory (numeric)']=df1.apply(myfunc1,args=['ListingCategory (numeric)',categories],axis=1)"
   ]
  },
  {
   "cell_type": "code",
   "execution_count": 48,
   "metadata": {},
   "outputs": [
    {
     "data": {
      "text/plain": [
       "0"
      ]
     },
     "execution_count": 48,
     "metadata": {},
     "output_type": "execute_result"
    }
   ],
   "source": [
    "df1['ListingCategory (numeric)'].isnull().sum()"
   ]
  },
  {
   "cell_type": "code",
   "execution_count": 49,
   "metadata": {},
   "outputs": [
    {
     "name": "stdout",
     "output_type": "stream",
     "text": [
      "Debt Consolidation  106\n",
      "\n",
      "Other                65\n",
      "\n",
      "Business             25\n",
      "\n",
      "Home Improvement     22\n",
      "\n",
      "Auto                  9\n",
      "\n"
     ]
    }
   ],
   "source": [
    "x=df1['ListingCategory (numeric)'].value_counts()\n",
    "\n",
    "for  i  in  range(len(x)):\n",
    "    print('{:18s} {:4d}'.format(x.index[i],x[i]))\n",
    "    print()"
   ]
  },
  {
   "cell_type": "markdown",
   "metadata": {},
   "source": [
    "C. Display the box plot for ProsperRating (Alpha) vs LoanOriginalAmount and hue = Loan Status[Completed,Defaulted]. Write your observations."
   ]
  },
  {
   "cell_type": "code",
   "execution_count": 50,
   "metadata": {},
   "outputs": [
    {
     "data": {
      "text/plain": [
       "<matplotlib.axes._subplots.AxesSubplot at 0x1d0a03978e0>"
      ]
     },
     "execution_count": 50,
     "metadata": {},
     "output_type": "execute_result"
    },
    {
     "data": {
      "image/png": "[encoded data removed]",
      "text/plain": [
       "<Figure size 1152x576 with 1 Axes>"
      ]
     },
     "metadata": {
      "needs_background": "light"
     },
     "output_type": "display_data"
    }
   ],
   "source": [
    "plt.figure(figsize=(16,8))\n",
    "\n",
    "sns.boxplot(x=df1['ProsperRating (Alpha)'],y=df1['LoanOriginalAmount'],hue=df1['LoanStatus'])"
   ]
  },
  {
   "cell_type": "markdown",
   "metadata": {},
   "source": [
    "Observations\n",
    "\n",
    "1)There  are few outliers in  this data\n",
    "\n",
    "2)Categories HR and A and B people  have  no  defaulted status\n",
    "\n",
    "3)Category  D have  relatively  higher defaulted status people"
   ]
  },
  {
   "cell_type": "markdown",
   "metadata": {},
   "source": [
    "D. Display the catplot for ProsperRating (Alpha) vs ListingCategory (numeric)[Debt Consolidation,Other,Business,Home Improvement,Auto] and hue = Loan Status[Completed,Defaulted]. Write your observations."
   ]
  },
  {
   "cell_type": "code",
   "execution_count": 51,
   "metadata": {},
   "outputs": [
    {
     "data": {
      "text/plain": [
       "Completed    168\n",
       "Defaulted     59\n",
       "Name: LoanStatus, dtype: int64"
      ]
     },
     "execution_count": 51,
     "metadata": {},
     "output_type": "execute_result"
    }
   ],
   "source": [
    "df1['LoanStatus'].value_counts()"
   ]
  },
  {
   "cell_type": "code",
   "execution_count": 52,
   "metadata": {},
   "outputs": [
    {
     "data": {
      "text/plain": [
       "Debt Consolidation    106\n",
       "Other                  65\n",
       "Business               25\n",
       "Home Improvement       22\n",
       "Auto                    9\n",
       "Name: ListingCategory (numeric), dtype: int64"
      ]
     },
     "execution_count": 52,
     "metadata": {},
     "output_type": "execute_result"
    }
   ],
   "source": [
    "df1['ListingCategory (numeric)'].value_counts()"
   ]
  },
  {
   "cell_type": "code",
   "execution_count": 53,
   "metadata": {},
   "outputs": [
    {
     "data": {
      "text/plain": [
       "<matplotlib.legend.Legend at 0x1d09dfe07c0>"
      ]
     },
     "execution_count": 53,
     "metadata": {},
     "output_type": "execute_result"
    },
    {
     "data": {
      "image/png": "[encoded data removed]",
      "text/plain": [
       "<Figure size 864x432 with 1 Axes>"
      ]
     },
     "metadata": {
      "needs_background": "light"
     },
     "output_type": "display_data"
    }
   ],
   "source": [
    "plt.figure(figsize=(12,6))\n",
    "\n",
    "sns.scatterplot(x='ProsperRating (Alpha)',y='ListingCategory (numeric)',hue='LoanStatus',data=df1)\n",
    "plt.legend(bbox_to_anchor=(1,1))"
   ]
  },
  {
   "cell_type": "markdown",
   "metadata": {},
   "source": [
    "Observations\n",
    "\n",
    "1)Maximum  number of people are  from  the Debt Consolidation.\n",
    "\n",
    "2)Most of the people who  have taken  Loan  from  all the listing categories have their loan status as completed."
   ]
  },
  {
   "cell_type": "code",
   "execution_count": null,
   "metadata": {},
   "outputs": [],
   "source": []
  },
  {
   "cell_type": "code",
   "execution_count": null,
   "metadata": {},
   "outputs": [],
   "source": []
  }
 ],
 "metadata": {
  "kernelspec": {
   "display_name": "Python 3",
   "language": "python",
   "name": "python3"
  },
  "language_info": {
   "codemirror_mode": {
    "name": "ipython",
    "version": 3
   },
   "file_extension": ".py",
   "mimetype": "text/x-python",
   "name": "python",
   "nbconvert_exporter": "python",
   "pygments_lexer": "ipython3",
   "version": "3.8.3"
  }
 },
 "nbformat": 4,
 "nbformat_minor": 4
}
